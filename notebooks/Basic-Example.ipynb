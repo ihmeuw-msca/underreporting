{
 "cells": [
  {
   "cell_type": "markdown",
   "id": "c2e1d40e",
   "metadata": {},
   "source": [
    "# Basic Example of the Pogit Model\n",
    "\n",
    "This notebook shows you how to fit a basic Pogit model with one covariate for the event generating process `lambda` and one covariate for the reporting rate `p`.\n",
    "\n",
    "After understanding the basic modeling setup in this notebook, see the `Regularizer-And-Constraint-Demos` notebook for examples of regularization and constraints that can improve the fit to `p` and `lambda`. \n",
    "\n",
    "See `Road-Injuries-Tutorial` for an example of these methods applied to realistic data with additional covariates, and to see the effect of overdispersion and model misspecification on the model fit. The road injuries tutorial also addresses modeling data where each observation has a different sample size, in which case the model must include an offset term."
   ]
  },
  {
   "cell_type": "code",
   "execution_count": null,
   "id": "7c2c7242",
   "metadata": {},
   "outputs": [],
   "source": [
    "import numpy as np\n",
    "import pandas as pd\n",
    "import matplotlib.pyplot as plt\n",
    "from xspline import XSpline\n",
    "from regmod.data import Data\n",
    "from regmod.variable import Variable, SplineVariable\n",
    "from regmod.prior import SplineUniformPrior, SplineGaussianPrior, LinearGaussianPrior\n",
    "from regmod.models import PogitModel\n",
    "from regmod.utils import SplineSpecs\n",
    "from regmod.optimizer import scipy_optimize"
   ]
  },
  {
   "cell_type": "code",
   "execution_count": null,
   "id": "69c0200b",
   "metadata": {},
   "outputs": [],
   "source": [
    "def logit(p):\n",
    "    return np.log(p/(1-p))"
   ]
  },
  {
   "cell_type": "code",
   "execution_count": null,
   "id": "b4015673",
   "metadata": {},
   "outputs": [],
   "source": [
    "# Global plotting parameters\n",
    "plt.rc('font', size=16) #controls default text size\n",
    "plt.rc('axes', titlesize=20) #fontsize of the title\n",
    "plt.rc('axes', labelsize=16) #fontsize of the x and y labels\n",
    "plt.rc('xtick', labelsize=14) #fontsize of the x tick labels\n",
    "plt.rc('ytick', labelsize=14) #fontsize of the y tick labels\n",
    "plt.rc('legend', fontsize=14) #fontsize of the legend"
   ]
  },
  {
   "cell_type": "code",
   "execution_count": null,
   "id": "860bf581",
   "metadata": {},
   "outputs": [],
   "source": [
    "np.random.seed(123)\n",
    "NUM_OBS = 500"
   ]
  },
  {
   "cell_type": "markdown",
   "id": "efac5d69",
   "metadata": {},
   "source": [
    "## Generate Data\n",
    "\n",
    "Generate data according to `logit(p) = -sin(2\\pi x0)` and `lambda = 15 + exp(cos(2\\pi x1))` with `x0, x1 ~ Uniform(0,1)`\n",
    "\n",
    "In this notation, `x0` and `x1` are covariates. `n` is the total number of events (observed and unobserved) so that\n",
    "\n",
    "`n ~ Poisson(lambda)`\n",
    "\n",
    "while `y` is the number of observed events\n",
    "\n",
    "`y ~ Binomial(n, p)`"
   ]
  },
  {
   "cell_type": "code",
   "execution_count": null,
   "id": "733756b0",
   "metadata": {},
   "outputs": [],
   "source": [
    "def generateData():\n",
    "    x0 = np.random.rand(NUM_OBS)\n",
    "    x1 = np.random.rand(NUM_OBS)\n",
    "\n",
    "    true_p = 1.0/(1.0 + np.exp(-np.sin(x0*2.0*np.pi)))\n",
    "    true_lam = 15.0 + np.exp(np.cos(x1*2.0*np.pi))\n",
    "    n = np.random.poisson(true_lam)\n",
    "    y = np.random.binomial(n=n, p=true_p)\n",
    "    \n",
    "    return x0, x1, y, n"
   ]
  },
  {
   "cell_type": "code",
   "execution_count": null,
   "id": "d4a4c6d0",
   "metadata": {},
   "outputs": [],
   "source": [
    "x0, x1, y, n = generateData()"
   ]
  },
  {
   "cell_type": "code",
   "execution_count": null,
   "id": "09608ec0",
   "metadata": {},
   "outputs": [],
   "source": [
    "fig, ax = plt.subplots(3, 1, figsize=(10, 5*3))\n",
    "ax[0].scatter(x0, y/n, marker=\"x\", color=\"gray\", alpha=0.5, label=\"y/n (unobserved)\")\n",
    "ax[0].plot(np.linspace(0, 1, 100), 1.0/(1.0 + np.exp(-np.sin(np.linspace(0, 1, 100)*2.0*np.pi))), \n",
    "           color=\"#DC143C\", label=\"True p\", linestyle=\"--\")\n",
    "ax[0].set_xlabel(\"x0\")\n",
    "ax[0].set_ylabel(\"p\")\n",
    "ax[0].set_title(\"Data and Generating Model\", loc=\"left\", size=20)\n",
    "leg = ax[0].legend()\n",
    "for marker in leg.legendHandles:\n",
    "    marker.set_alpha(1)\n",
    "\n",
    "ax[1].scatter(x1, n, marker=\"x\", color=\"gray\", alpha=0.5, label=\"n (unobserved)\")\n",
    "ax[1].plot(np.linspace(0, 1, 100), 15.0 + np.exp(np.cos(np.linspace(0, 1, 100)*2.0*np.pi)), \n",
    "               color=\"#DC143C\", label=r'True $\\lambda$', linestyle=\"--\")\n",
    "ax[1].set_ylim()\n",
    "ax[1].set_xlabel(\"x1\")\n",
    "ax[1].set_ylabel(r'$\\lambda$')\n",
    "leg = ax[1].legend()\n",
    "for marker in leg.legendHandles:\n",
    "    marker.set_alpha(1)\n",
    "\n",
    "ax[2].scatter(x0, y, marker=\".\", color=\"gray\", label=\"y (observed)\")\n",
    "ax[2].plot(np.linspace(0, 1, 100), (15.0 + np.exp(np.cos(np.linspace(0, 1, 100)*2.0*np.pi)))/(1.0 + np.exp(-np.sin(np.linspace(0, 1, 100)*2.0*np.pi))), \n",
    "           color=\"#DC143C\", label=r'True $\\mu=\\lambda p$', linestyle=\"--\")\n",
    "ax[2].set_xlabel(\"x0, x1\")\n",
    "ax[2].set_ylabel(r'$\\mu=\\lambda p$')\n",
    "leg = ax[2].legend()\n",
    "for marker in leg.legendHandles:\n",
    "    marker.set_alpha(1)\n",
    "    \n",
    "plt.tight_layout()\n",
    "plt.show()"
   ]
  },
  {
   "cell_type": "markdown",
   "id": "d788dfaf",
   "metadata": {},
   "source": [
    "## Fit the Pogit model to the observations"
   ]
  },
  {
   "cell_type": "markdown",
   "id": "d0487bf7",
   "metadata": {},
   "source": [
    "Model both `p` and `lambda` by second-degree splines, with two knots for `p` and one knot for `lambda`"
   ]
  },
  {
   "cell_type": "code",
   "execution_count": null,
   "id": "de597ce2",
   "metadata": {},
   "outputs": [],
   "source": [
    "var0 = SplineVariable(name=\"x0\",\n",
    "                          spline_specs=SplineSpecs(knots=np.array([0.0, 0.25, 0.75, 1.0]),\n",
    "                                                   knots_type=\"abs\",\n",
    "                                                   degree=3))\n",
    "\n",
    "var1 = SplineVariable(name=\"x1\",\n",
    "                          spline_specs=SplineSpecs(knots=np.array([0.0, 0.5, 1.0]),\n",
    "                                                   knots_type=\"abs\",\n",
    "                                                   degree=3))"
   ]
  },
  {
   "cell_type": "markdown",
   "id": "836e6880",
   "metadata": {},
   "source": [
    "Fit the Pogit model using the Regmod framework"
   ]
  },
  {
   "cell_type": "code",
   "execution_count": null,
   "id": "87391207",
   "metadata": {},
   "outputs": [],
   "source": [
    "# Build and fit model\n",
    "df = pd.DataFrame({\"y\": y, \"x0\": x0, \"x1\": x1})\n",
    "data = Data(col_obs=\"y\", col_covs=[\"x0\", \"x1\"], df=df)\n",
    "model = PogitModel(data, param_specs={\"p\": {\"variables\": [var0]}, \"lam\": {\"variables\": [var1]}})\n",
    "result = scipy_optimize(model)\n",
    "\n",
    "# Record the estimated pHat and lambdaHat at every value of x0, x1\n",
    "coefs = model.split_coefs(result[\"coefs\"])"
   ]
  },
  {
   "cell_type": "markdown",
   "id": "fd3c80a3",
   "metadata": {},
   "source": [
    "Plot the model predictions over the range `[0,1]` in both `x0` and `x1`"
   ]
  },
  {
   "cell_type": "code",
   "execution_count": null,
   "id": "08772572",
   "metadata": {},
   "outputs": [],
   "source": [
    "# Predict p, lambda and mu over the entire x0 and x1 range, for plotting\n",
    "df_pred = pd.DataFrame({\"x0\": np.linspace(0, 1, 100), \"x1\": np.linspace(0, 1, 100)})\n",
    "data_pred = Data(col_covs=[\"x0\", \"x1\"], df=df_pred)\n",
    "\n",
    "pred0 = model.params[0].get_param(coefs[0], data_pred)\n",
    "pred1 = model.params[1].get_param(coefs[1], data_pred)"
   ]
  },
  {
   "cell_type": "code",
   "execution_count": null,
   "id": "dea077cc",
   "metadata": {
    "scrolled": true
   },
   "outputs": [],
   "source": [
    "fig, ax = plt.subplots(3, 1, figsize=(10, 5*3))\n",
    "ax[0].plot(np.linspace(0, 1, 100), pred0, color=\"#008080\", label=\"Model fit\")\n",
    "ax[0].scatter(x0, y/n, marker=\"x\", color=\"gray\", alpha=0.5, label=\"y/n (unobserved)\")\n",
    "ax[0].plot(np.linspace(0, 1, 100), 1.0/(1.0 + np.exp(-np.sin(np.linspace(0, 1, 100)*2.0*np.pi))), \n",
    "           color=\"#DC143C\", label=\"True p\", linestyle=\"--\")\n",
    "ax[0].set_xlabel(\"x0\")\n",
    "ax[0].set_ylabel(\"p\")\n",
    "ax[0].set_title(\"Pogit Model\", loc=\"left\")\n",
    "leg = ax[0].legend()\n",
    "for marker in leg.legendHandles:\n",
    "    marker.set_alpha(1)\n",
    "\n",
    "ax[1].plot(np.linspace(0, 1, 100), pred1, color=\"#008080\", label=\"Model fit\")\n",
    "ax[1].scatter(x1, n, marker=\"x\", color=\"gray\", alpha=0.5, label=\"n (unobserved)\")\n",
    "ax[1].plot(np.linspace(0, 1, 100), 15.0 + np.exp(np.cos(np.linspace(0, 1, 100)*2.0*np.pi)), \n",
    "               color=\"#DC143C\", label=r'True $\\lambda$', linestyle=\"--\")\n",
    "ax[1].set_ylim()\n",
    "ax[1].set_xlabel(\"x1\")\n",
    "ax[1].set_ylabel(r'$\\lambda$')\n",
    "leg = ax[1].legend()\n",
    "for marker in leg.legendHandles:\n",
    "    marker.set_alpha(1)\n",
    "\n",
    "ax[2].plot(np.linspace(0, 1, 100), pred0*pred1, color=\"#008080\", label=\"Model fit\")\n",
    "ax[2].scatter(x0, y, marker=\".\", color=\"gray\", label=\"y (observed)\")\n",
    "ax[2].plot(np.linspace(0, 1, 100), (15.0 + np.exp(np.cos(np.linspace(0, 1, 100)*2.0*np.pi)))/(1.0 + np.exp(-np.sin(np.linspace(0, 1, 100)*2.0*np.pi))), \n",
    "           color=\"#DC143C\", label=r'True $\\mu=\\lambda p$', linestyle=\"--\")\n",
    "ax[2].set_xlabel(\"x0, x1\")\n",
    "ax[2].set_ylabel(r'$\\mu=\\lambda p$')\n",
    "leg = ax[2].legend()\n",
    "for marker in leg.legendHandles:\n",
    "    marker.set_alpha(1)\n",
    "\n",
    "plt.show()"
   ]
  },
  {
   "cell_type": "markdown",
   "id": "57129ab8",
   "metadata": {},
   "source": [
    "## Quantify uncertainty via 1,000 draws\n",
    "\n",
    "Our model fitting process produces both coefficient estimates and the covariance matrix on those estimates, via sandwich estimation. We will take 1,000 draws of coefficients according to this covariance matrix, and use this to quantify uncertainty."
   ]
  },
  {
   "cell_type": "code",
   "execution_count": null,
   "id": "02a90141",
   "metadata": {},
   "outputs": [],
   "source": [
    "numDraws = 1000\n",
    "\n",
    "# Get our thousand draws, according to the covariance\n",
    "thousandCoefs = np.random.multivariate_normal(mean=result[\"coefs\"], cov=result[\"vcov\"], size=numDraws)"
   ]
  },
  {
   "cell_type": "markdown",
   "id": "7a902e68",
   "metadata": {},
   "source": [
    "The `thousandCoefs` above defines a thousand realizations of our model. We can plot the uncertainty in the estimated `p`, `lambda` and `mu` by computing these three quantities for each of the thousand draws, on the interval `[0,1]` for `x0` and `x1`."
   ]
  },
  {
   "cell_type": "code",
   "execution_count": null,
   "id": "a2066306",
   "metadata": {},
   "outputs": [],
   "source": [
    "# Turn these thousand parameter draws into a thousand mu_i's, p_i's and lambda_i's for every row in processed_data\n",
    "ps = np.array([model.params[0].get_param(model.split_coefs(c)[0], data_pred) for c in thousandCoefs]).T\n",
    "ls = np.array([model.params[1].get_param(model.split_coefs(c)[1], data_pred) for c in thousandCoefs]).T\n",
    "mus = ps*ls"
   ]
  },
  {
   "cell_type": "code",
   "execution_count": null,
   "id": "8e756c59",
   "metadata": {},
   "outputs": [],
   "source": [
    "# Generate 1-alpha confidence intervals\n",
    "alpha = 0.05\n",
    "\n",
    "# sort each row (each observation i)\n",
    "sortedLams = np.sort(ls, axis=1)\n",
    "sortedPs = np.sort(ps, axis=1)\n",
    "sortedMus = np.sort(mus, axis=1)\n",
    "\n",
    "lci = int(np.floor(numDraws * alpha / 2))\n",
    "uci = int(np.ceil(numDraws * (1 - alpha / 2)))\n",
    "\n",
    "empiricalBounds = {\"lamLCB\": sortedLams[:, lci],\n",
    "            \"lamUCB\": sortedLams[:, uci],\n",
    "            \"pLCB\": sortedPs[:, lci],\n",
    "            \"pUCB\": sortedPs[:, uci],\n",
    "            \"muLCB\": sortedMus[:, lci],\n",
    "            \"muUCB\": sortedMus[:, uci]}"
   ]
  },
  {
   "cell_type": "code",
   "execution_count": null,
   "id": "042e9ee4",
   "metadata": {},
   "outputs": [],
   "source": [
    "fig, ax = plt.subplots(3, 2, figsize=(20, 5*3))\n",
    "for i, uqMethod, bounds in [(0, \"One Thousand Draws of the Model Coefficients\", None),\n",
    "                           (1, \"Empirical CIs from 1,000 Draws\", empiricalBounds)]:\n",
    "    ax[0, i].plot(np.linspace(0, 1, 100), pred0, color=\"#008080\", label=\"Model fit\")\n",
    "    ax[0, i].scatter(x0, y/n, marker=\"x\", color=\"gray\", alpha=0.5, label=\"y/n (unobserved)\")\n",
    "    ax[0, i].plot(np.linspace(0, 1, 100), 1.0/(1.0 + np.exp(-np.sin(np.linspace(0, 1, 100)*2.0*np.pi))), \n",
    "               color=\"#DC143C\", label=\"True p\", linestyle=\"--\")\n",
    "    if bounds is None:\n",
    "        # Plot the actual thousand draws\n",
    "        ax[0, i].plot(np.linspace(0, 1, 100), ps, color=\"#008080\", label=[\"One draw\"] + [\"_nolabel_\"]*(numDraws-1), alpha=0.02)\n",
    "    else:\n",
    "        # Plot the bounds given by the UQ method\n",
    "        ax[0, i].fill_between(np.linspace(0, 1, 100), bounds[\"pLCB\"], bounds[\"pUCB\"],\n",
    "                                    facecolor=\"#008080\", alpha=0.1)\n",
    "    ax[0, i].set_xlabel(\"x0\")\n",
    "    ax[0, i].set_ylabel(\"p\")\n",
    "    ax[0, i].set_title(uqMethod, loc=\"left\")\n",
    "    leg = ax[0, i].legend()\n",
    "    for marker in leg.legendHandles:\n",
    "        marker.set_alpha(1)\n",
    "\n",
    "    ax[1, i].semilogy(np.linspace(0, 1, 100), pred1, color=\"#008080\", label=\"Model fit\")\n",
    "    ax[1, i].scatter(x1, n, marker=\"x\", color=\"gray\", alpha=0.5, label=\"n (unobserved)\")\n",
    "    ax[1, i].semilogy(np.linspace(0, 1, 100), 15.0 + np.exp(np.cos(np.linspace(0, 1, 100)*2.0*np.pi)), \n",
    "                   color=\"#DC143C\", label=r'True $\\lambda$', linestyle=\"--\")\n",
    "    if bounds is None:\n",
    "        ax[1, i].plot(np.linspace(0, 1, 100), ls, color=\"#008080\", label=[\"One draw\"] + [\"_nolabel_\"]*(numDraws-1), alpha=0.02)\n",
    "    else:\n",
    "        ax[1, i].fill_between(np.linspace(0, 1, 100), bounds[\"lamLCB\"], bounds[\"lamUCB\"],\n",
    "                                    facecolor=\"#008080\", alpha=0.1)\n",
    "    ax[1, i].set_ylim()\n",
    "    ax[1, i].set_xlabel(\"x1\")\n",
    "    ax[1, i].set_ylabel(r'$\\lambda$')\n",
    "    leg = ax[1, i].legend()\n",
    "    for marker in leg.legendHandles:\n",
    "        marker.set_alpha(1)\n",
    "\n",
    "    ax[2, i].plot(np.linspace(0, 1, 100), pred0*pred1, color=\"#008080\", label=\"Model fit\")\n",
    "    ax[2, i].scatter(x0, y, marker=\".\", color=\"gray\", label=\"y (observed)\")\n",
    "    ax[2, i].plot(np.linspace(0, 1, 100), (15.0 + np.exp(np.cos(np.linspace(0, 1, 100)*2.0*np.pi)))/(1.0 + np.exp(-np.sin(np.linspace(0, 1, 100)*2.0*np.pi))), \n",
    "               color=\"#DC143C\", label=r'True $\\mu=\\lambda p$', linestyle=\"--\")\n",
    "    if bounds is None:\n",
    "        ax[2, i].plot(np.linspace(0, 1, 100), mus, color=\"#008080\", label=[\"One draw\"] + [\"_nolabel_\"]*(numDraws-1), alpha=0.02)\n",
    "    else:\n",
    "        ax[2, i].fill_between(np.linspace(0, 1, 100), bounds[\"muLCB\"], bounds[\"muUCB\"],\n",
    "                                    facecolor=\"#008080\", alpha=0.1)\n",
    "    ax[2, i].set_xlabel(\"x0, x1\")\n",
    "    ax[2, i].set_ylabel(r'$\\mu=\\lambda p$')\n",
    "    leg = ax[2, i].legend()\n",
    "    for marker in leg.legendHandles:\n",
    "        marker.set_alpha(1)\n",
    "\n",
    "plt.show()"
   ]
  }
 ],
 "metadata": {
  "kernelspec": {
   "display_name": "Python 3 (ipykernel)",
   "language": "python",
   "name": "python3"
  },
  "language_info": {
   "codemirror_mode": {
    "name": "ipython",
    "version": 3
   },
   "file_extension": ".py",
   "mimetype": "text/x-python",
   "name": "python",
   "nbconvert_exporter": "python",
   "pygments_lexer": "ipython3",
   "version": "3.9.6"
  }
 },
 "nbformat": 4,
 "nbformat_minor": 5
}
