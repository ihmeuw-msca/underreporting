{
 "cells": [
  {
   "cell_type": "markdown",
   "id": "c2e1d40e",
   "metadata": {},
   "source": [
    "# Basic Example of the Pogit Model\n",
    "\n",
    "This notebook shows you how to fit a Pogit model with one covariate for the event generating process $\\lambda$ and one covariate for the reporting rate $p$.\n",
    "\n",
    "After understanding the basic modeling setup in this notebook, see the `Regularizer-And-Constraint-Demos` notebook for examples of regularization and constraints that can improve the fit to $p$ and $\\lambda$. \n",
    "\n",
    "See `Road-Injuries-Tutorial` for an example of these methods applied to realistic data with additional covariates, and to see the effect of overdispersion and model misspecification on the model fit. The road injuries tutorial also addresses modeling data where each observation has a different sample size, in which case the model must include an offset term."
   ]
  },
  {
   "cell_type": "code",
   "execution_count": null,
   "id": "7c2c7242",
   "metadata": {},
   "outputs": [],
   "source": [
    "import numpy as np\n",
    "import pandas as pd\n",
    "import matplotlib.pyplot as plt\n",
    "from xspline import XSpline\n",
    "from regmod.data import Data\n",
    "from regmod.variable import Variable, SplineVariable\n",
    "from regmod.prior import SplineUniformPrior, SplineGaussianPrior, LinearGaussianPrior\n",
    "from regmod.models import PogitModel\n",
    "from regmod.utils import SplineSpecs\n",
    "from regmod.optimizer import scipy_optimize"
   ]
  },
  {
   "cell_type": "code",
   "execution_count": null,
   "id": "honey-release",
   "metadata": {},
   "outputs": [],
   "source": [
    "# Global plotting parameters\n",
    "plt.rc('font', size=16) #controls default text size\n",
    "plt.rc('axes', titlesize=20) #fontsize of the title\n",
    "plt.rc('axes', labelsize=16) #fontsize of the x and y labels\n",
    "plt.rc('xtick', labelsize=14) #fontsize of the x tick labels\n",
    "plt.rc('ytick', labelsize=14) #fontsize of the y tick labels\n",
    "plt.rc('legend', fontsize=14) #fontsize of the legend"
   ]
  },
  {
   "cell_type": "markdown",
   "id": "efac5d69",
   "metadata": {},
   "source": [
    "## Generate Data\n",
    "\n",
    "Generate data according to $\\mathrm{logit}(p) = -\\sin(2\\pi x_0)$ and $\\lambda = 15 + \\exp(\\cos(2\\pi x_1))$ with $x_0, x_1 \\sim \\mathrm{Uniform}(0, 1)$\n",
    "\n",
    "In this notation, $x_0$ and $x_1$ are covariates. $n$ is the total number of events (observed and unobserved) so that\n",
    "\n",
    "$$n \\sim \\mathrm{Poisson}(\\lambda)$$\n",
    "\n",
    "while $y$ is the number of observed events\n",
    "\n",
    "$$y \\sim \\mathrm{Binomial}(n, p)$$\n",
    "\n",
    "Our goal is to use $y$, $x_0$ and $x_1$ to infer the true reporting probability $p$ and true rate $\\lambda$."
   ]
  },
  {
   "cell_type": "code",
   "execution_count": null,
   "id": "caroline-bride",
   "metadata": {},
   "outputs": [],
   "source": [
    "np.random.seed(123)\n",
    "NUM_OBS = 500"
   ]
  },
  {
   "cell_type": "code",
   "execution_count": null,
   "id": "statewide-litigation",
   "metadata": {},
   "outputs": [],
   "source": [
    "def get_true_p(x):\n",
    "    return 1.0/(1.0 + np.exp(-np.sin(x*2.0*np.pi)))\n",
    "\n",
    "def get_true_lam(x):\n",
    "    return 15.0 + np.exp(np.cos(x*2.0*np.pi))"
   ]
  },
  {
   "cell_type": "code",
   "execution_count": null,
   "id": "733756b0",
   "metadata": {},
   "outputs": [],
   "source": [
    "def generateData():\n",
    "    x0 = np.random.rand(NUM_OBS)\n",
    "    x1 = np.random.rand(NUM_OBS)\n",
    "\n",
    "    true_p = get_true_p(x0)\n",
    "    true_lam = get_true_lam(x1)\n",
    "    \n",
    "    n = np.random.poisson(true_lam)\n",
    "    y = np.random.binomial(n=n, p=true_p)\n",
    "    \n",
    "    return x0, x1, y, n"
   ]
  },
  {
   "cell_type": "code",
   "execution_count": null,
   "id": "d4a4c6d0",
   "metadata": {},
   "outputs": [],
   "source": [
    "x0, x1, y, n = generateData()"
   ]
  },
  {
   "cell_type": "markdown",
   "id": "competent-slovenia",
   "metadata": {},
   "source": [
    "### Plot the data\n",
    "\n",
    "When plotting against data, because we have two covariates, we cannot plot a single curve.\n",
    "Here we scatter plot the prediction from the true parameter for each data point."
   ]
  },
  {
   "cell_type": "code",
   "execution_count": null,
   "id": "09608ec0",
   "metadata": {},
   "outputs": [],
   "source": [
    "x = np.linspace(0, 1, 100)\n",
    "fig, ax = plt.subplots(2, 2, figsize=(10*2, 5*2), sharex=True)\n",
    "ax[0, 0].plot(x, get_true_p(x), color=\"#DC143C\", linestyle=\"--\")\n",
    "ax[0, 0].set_ylabel(\"true p\")\n",
    "ax[0, 0].set_title(\"Data and Generating Model\", loc=\"left\", size=20)\n",
    "\n",
    "ax[0, 1].plot(x, get_true_lam(x), color=\"#DC143C\", linestyle=\"--\")\n",
    "ax[0, 1].set_ylabel(r'true $\\lambda$')\n",
    "\n",
    "ax[1, 0].scatter(x0, y, marker=\".\", color=\"gray\")\n",
    "ax[1, 0].scatter(x0, get_true_p(x0)*get_true_lam(x1), marker=\".\", color=\"#DC143C\")\n",
    "ax[1, 0].set_xlabel(\"x0\")\n",
    "ax[1, 0].set_ylabel(r'observation $\\mu=\\lambda p$')\n",
    "\n",
    "ax[1, 1].scatter(x1, y, marker=\".\", color=\"gray\")\n",
    "ax[1, 1].scatter(x1, get_true_p(x0)*get_true_lam(x1), marker=\".\", color=\"#DC143C\")\n",
    "ax[1, 1].set_xlabel(\"x1\")\n",
    "ax[1, 1].set_ylabel(r'observation $\\mu=\\lambda p$')\n",
    "plt.show()"
   ]
  },
  {
   "cell_type": "markdown",
   "id": "d788dfaf",
   "metadata": {},
   "source": [
    "## Fit the Pogit model to the observations\n",
    "\n",
    "To construct the model, we need to create\n",
    "\n",
    "* data object\n",
    "* variables and parameters\n",
    "* model object assemble the information from data and variables\n",
    "\n",
    "And then we fit model and use it to predict."
   ]
  },
  {
   "cell_type": "markdown",
   "id": "under-dream",
   "metadata": {},
   "source": [
    "### Data object\n",
    "\n",
    "* Load (in this case since it is synthetic, we create) data frame\n",
    "* Create data object, by passing in the data frame and specify the corresponding columns for more details check the [docstring](https://github.com/ihmeuw-msca/regmod/blob/develop/src/regmod/data.py#L13)\n",
    "\n",
    "Important columns for the Pogit model are\n",
    "\n",
    "* `col_obs`: observations in count space\n",
    "* `col_covs`: different covariates used for model the $p$ and $\\lambda$\n",
    "* `col_offset`: offset column important for $\\lambda$ parameter, usually use `log_population` as the offset for $\\lambda$"
   ]
  },
  {
   "cell_type": "code",
   "execution_count": null,
   "id": "sealed-brother",
   "metadata": {},
   "outputs": [],
   "source": [
    "df = pd.DataFrame({\"y\": y, \"x0\": x0, \"x1\": x1})\n",
    "data = Data(col_obs=\"y\", col_covs=[\"x0\", \"x1\"], df=df)"
   ]
  },
  {
   "cell_type": "markdown",
   "id": "d0487bf7",
   "metadata": {},
   "source": [
    "### Variables and parameters\n",
    "\n",
    "Here we use $x_0$ to model $p$ and $x_1$ to model $\\lambda$. Use which covariate to model which parameter usually come from prior knowledge.\n",
    "We model both $p$ and $\\lambda$ by thrid-degree splines, with two interior knots for $p$ and one interior knot for $\\lambda$.\n",
    "\n",
    "To declare variables, we need to use `Variable` or `SplineVariable` class, where `Variable` is for regular variable, and\n",
    "`SplineVariable` is for variable with spline.\n",
    "In this specific case we use spline for both $x_0$ and $x_1$.\n",
    "To specify the spline settings, we need to use `SplineSpecs` class, and you could input, knots and degree settings into the class. For more details please check the [docstring](https://github.com/ihmeuw-msca/regmod/blob/develop/src/regmod/utils.py#L74) of the class."
   ]
  },
  {
   "cell_type": "code",
   "execution_count": null,
   "id": "de597ce2",
   "metadata": {},
   "outputs": [],
   "source": [
    "var0 = SplineVariable(name=\"x0\",\n",
    "                      spline_specs=SplineSpecs(knots=np.array([0.0, 0.25, 0.75, 1.0]),\n",
    "                                               knots_type=\"abs\",\n",
    "                                               degree=3))\n",
    "\n",
    "var1 = SplineVariable(name=\"x1\",\n",
    "                      spline_specs=SplineSpecs(knots=np.array([0.0, 0.5, 1.0]),\n",
    "                                               knots_type=\"abs\",\n",
    "                                               degree=3))"
   ]
  },
  {
   "cell_type": "markdown",
   "id": "836e6880",
   "metadata": {},
   "source": [
    "And we create the parameter specification.\n",
    "For Pogit model, it has two parameters, `p` and `lam`."
   ]
  },
  {
   "cell_type": "code",
   "execution_count": null,
   "id": "athletic-conditions",
   "metadata": {},
   "outputs": [],
   "source": [
    "param_specs = {\"p\": {\"variables\": [var0]},\n",
    "               \"lam\": {\"variables\": [var1]}}"
   ]
  },
  {
   "cell_type": "markdown",
   "id": "relevant-hamilton",
   "metadata": {},
   "source": [
    "### Model object\n",
    "\n",
    "Here we assemble data and parameter information to create the model object.\n",
    "For more details please check the [docstring](https://github.com/ihmeuw-msca/regmod/blob/develop/src/regmod/models/model.py#L16)."
   ]
  },
  {
   "cell_type": "code",
   "execution_count": null,
   "id": "87391207",
   "metadata": {},
   "outputs": [],
   "source": [
    "model = PogitModel(data, param_specs={\"p\": {\"variables\": [var0]}, \"lam\": {\"variables\": [var1]}})"
   ]
  },
  {
   "cell_type": "markdown",
   "id": "mounted-conversion",
   "metadata": {},
   "source": [
    "Fit model using `scipy_optimize`."
   ]
  },
  {
   "cell_type": "code",
   "execution_count": null,
   "id": "catholic-palestine",
   "metadata": {},
   "outputs": [],
   "source": [
    "result = scipy_optimize(model)"
   ]
  },
  {
   "cell_type": "markdown",
   "id": "unlimited-eleven",
   "metadata": {},
   "source": [
    "Extract the coeffcients for each parameter."
   ]
  },
  {
   "cell_type": "code",
   "execution_count": null,
   "id": "decreased-latest",
   "metadata": {},
   "outputs": [],
   "source": [
    "coefs_p, coefs_lam = model.split_coefs(result[\"coefs\"])"
   ]
  },
  {
   "cell_type": "markdown",
   "id": "fd3c80a3",
   "metadata": {},
   "source": [
    "### Predict and plot against true parameter\n",
    "\n",
    "Predict the model with given covariates."
   ]
  },
  {
   "cell_type": "code",
   "execution_count": null,
   "id": "08772572",
   "metadata": {},
   "outputs": [],
   "source": [
    "df_pred = pd.DataFrame({\"x0\": x, \"x1\": x})\n",
    "data_pred = Data(col_covs=[\"x0\", \"x1\"], df=df_pred)\n",
    "\n",
    "df_pred[\"p\"] = model.params[0].get_param(coefs_p, data_pred)\n",
    "df_pred[\"lam\"] = model.params[1].get_param(coefs_lam, data_pred)"
   ]
  },
  {
   "cell_type": "code",
   "execution_count": null,
   "id": "dea077cc",
   "metadata": {
    "scrolled": true
   },
   "outputs": [],
   "source": [
    "fig, ax = plt.subplots(1, 2, figsize=(10*2, 5))\n",
    "ax[0].plot(df_pred.x0, df_pred.p, color=\"#008080\", label=\"Model fit\")\n",
    "ax[0].plot(df_pred.x0, get_true_p(df_pred.x0), color=\"#DC143C\", label=\"True p\", linestyle=\"--\")\n",
    "ax[0].set_xlabel(\"x0\")\n",
    "ax[0].set_ylabel(\"p\")\n",
    "ax[0].set_title(\"Pogit Model\", loc=\"left\")\n",
    "ax[0].legend()\n",
    "\n",
    "ax[1].plot(df_pred.x0, df_pred.lam, color=\"#008080\", label=\"Model fit\")\n",
    "ax[1].plot(df_pred.x0, get_true_lam(df_pred.x0), color=\"#DC143C\", label=r'True $\\lambda$', linestyle=\"--\")\n",
    "ax[1].set_xlabel(\"x1\")\n",
    "ax[1].set_ylabel(r'$\\lambda$')\n",
    "ax[1].legend()\n",
    "plt.show()"
   ]
  },
  {
   "cell_type": "markdown",
   "id": "limited-clock",
   "metadata": {},
   "source": [
    "### Predict and plot against training\n",
    "\n",
    "You can directly predict using the model fitting data to test overall fitting."
   ]
  },
  {
   "cell_type": "code",
   "execution_count": null,
   "id": "fancy-banking",
   "metadata": {},
   "outputs": [],
   "source": [
    "df_fit = data.df\n",
    "\n",
    "df_fit[\"p\"] = model.params[0].get_param(coefs_p, data)\n",
    "df_fit[\"lam\"] = model.params[1].get_param(coefs_lam, data)"
   ]
  },
  {
   "cell_type": "code",
   "execution_count": null,
   "id": "several-cooper",
   "metadata": {},
   "outputs": [],
   "source": [
    "fit, ax = plt.subplots(1, 2, figsize=(10*2, 5))\n",
    "\n",
    "for i, cov in enumerate([\"x0\", \"x1\"]):\n",
    "    ax[i].scatter(df_fit[cov], df_fit.y, color=\"gray\", marker=\".\", label=\"data\")\n",
    "    ax[i].scatter(df_fit[cov], df_fit.p*df_fit.lam, color=\"#008080\", marker=\"x\", label=\"pred\")\n",
    "    ax[i].scatter(df_fit[cov], get_true_p(df_fit.x0)*get_true_lam(df_fit.x1), color=\"#DC143C\", marker=\".\", label=\"true\")\n",
    "    ax[i].set_xlabel(cov)\n",
    "    ax[i].set_ylabel(r'observation $\\mu=\\lambda p$')\n",
    "    ax[i].legend()"
   ]
  },
  {
   "cell_type": "markdown",
   "id": "57129ab8",
   "metadata": {},
   "source": [
    "### Quantify uncertainty via 1,000 draws\n",
    "\n",
    "Our model fitting process produces both coefficient estimates and the covariance matrix on those estimates, via sandwich estimation. We will take 1,000 draws of coefficients according to this covariance matrix, and use this to quantify uncertainty.\n",
    "\n",
    "We first get the samples of coefficients using multivariate-normal distribution,\n",
    "with mean to be point estimate `model.opt_coefs` and covariance matrix to be its positerior covariance matrix `model.opt_vcov`."
   ]
  },
  {
   "cell_type": "code",
   "execution_count": null,
   "id": "02a90141",
   "metadata": {},
   "outputs": [],
   "source": [
    "num_draws = 1000\n",
    "coefs_samples = np.random.multivariate_normal(mean=result[\"coefs\"], cov=result[\"vcov\"], size=num_draws)"
   ]
  },
  {
   "cell_type": "markdown",
   "id": "7a902e68",
   "metadata": {},
   "source": [
    "We then split the coefficients sample into samples for $p$ and $\\lambda$."
   ]
  },
  {
   "cell_type": "code",
   "execution_count": null,
   "id": "a2066306",
   "metadata": {},
   "outputs": [],
   "source": [
    "coefs_samples = list(map(model.split_coefs, coefs_samples))"
   ]
  },
  {
   "cell_type": "markdown",
   "id": "sought-equivalent",
   "metadata": {},
   "source": [
    "Create draws for $p$ and $\\lambda$."
   ]
  },
  {
   "cell_type": "code",
   "execution_count": null,
   "id": "technological-pocket",
   "metadata": {},
   "outputs": [],
   "source": [
    "draws = [[], []]\n",
    "for coefs in coefs_samples:\n",
    "    for i, coef in enumerate(coefs):\n",
    "        draws[i].append(model.params[i].get_param(coef, data_pred))\n",
    "\n",
    "for i in range(2):\n",
    "    draws[i] = np.vstack(draws[i])"
   ]
  },
  {
   "cell_type": "markdown",
   "id": "smart-valuation",
   "metadata": {},
   "source": [
    "Plot the uncertainty interval against the true parameters."
   ]
  },
  {
   "cell_type": "code",
   "execution_count": null,
   "id": "constant-doctrine",
   "metadata": {},
   "outputs": [],
   "source": [
    "# Generate 1-alpha confidence intervals\n",
    "alpha = 0.05\n",
    "lb, ub = 0.5*alpha, 1 - 0.5*alpha\n",
    "\n",
    "fig, ax = plt.subplots(1, 2, figsize=(10*2, 5))\n",
    "\n",
    "ax[0].plot(df_pred.x0, df_pred.p, color=\"#008080\", label=\"Model fit\")\n",
    "ax[0].plot(df_pred.x0, get_true_p(df_pred.x0), color=\"#DC143C\", label=\"True p\", linestyle=\"--\")\n",
    "ax[0].fill_between(df_pred.x0,\n",
    "                   np.quantile(draws[0], lb, axis=0),\n",
    "                   np.quantile(draws[0], ub, axis=0),\n",
    "                   color=\"#008080\", alpha=0.2)\n",
    "ax[0].set_xlabel(\"x0\")\n",
    "ax[0].set_ylabel(\"p\")\n",
    "ax[0].set_title(\"Pogit Model\", loc=\"left\")\n",
    "ax[0].legend()\n",
    "\n",
    "ax[1].plot(df_pred.x0, df_pred.lam, color=\"#008080\", label=\"Model fit\")\n",
    "ax[1].plot(df_pred.x0, get_true_lam(df_pred.x0), color=\"#DC143C\", label=r'True $\\lambda$', linestyle=\"--\")\n",
    "ax[1].fill_between(df_pred.x0,\n",
    "                   np.quantile(draws[1], lb, axis=0),\n",
    "                   np.quantile(draws[1], ub, axis=0),\n",
    "                   color=\"#008080\", alpha=0.2)\n",
    "ax[1].set_xlabel(\"x1\")\n",
    "ax[1].set_ylabel(r'$\\lambda$')\n",
    "ax[1].legend()\n",
    "plt.show()"
   ]
  },
  {
   "cell_type": "code",
   "execution_count": null,
   "id": "graduate-carpet",
   "metadata": {},
   "outputs": [],
   "source": []
  }
 ],
 "metadata": {
  "kernelspec": {
   "display_name": "Python 3",
   "language": "python",
   "name": "python3"
  },
  "language_info": {
   "codemirror_mode": {
    "name": "ipython",
    "version": 3
   },
   "file_extension": ".py",
   "mimetype": "text/x-python",
   "name": "python",
   "nbconvert_exporter": "python",
   "pygments_lexer": "ipython3",
   "version": "3.9.6"
  }
 },
 "nbformat": 4,
 "nbformat_minor": 5
}
