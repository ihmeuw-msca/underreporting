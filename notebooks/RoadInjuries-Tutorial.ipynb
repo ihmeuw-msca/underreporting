{
 "cells": [
  {
   "cell_type": "markdown",
   "id": "d99e83a3",
   "metadata": {},
   "source": [
    "# Importance of informative covariates in the Pogit model\n",
    "\n",
    "If the covariates perfectly predict the true rate lambda and reporting rate p, then the Pogit model successfully separates these two functions. On the other hand, if lambda or p are noisy functions of their covariates, then the model's recovery gets worse. We demonstrate how strong priors/constraints can be helpful in this setting to recover the true functions using synthetic data on road injuries."
   ]
  },
  {
   "cell_type": "code",
   "execution_count": null,
   "id": "980f3089",
   "metadata": {},
   "outputs": [],
   "source": [
    "from pathlib import Path\n",
    "\n",
    "import pandas as pd\n",
    "import numpy as np\n",
    "import matplotlib.pyplot as plt\n",
    "import yaml\n",
    "from xspline import XSpline\n",
    "\n",
    "from regmod.data import Data\n",
    "from regmod.variable import Variable, SplineVariable\n",
    "from regmod.prior import GaussianPrior, UniformPrior, LinearUniformPrior, SplineUniformPrior, LinearGaussianPrior\n",
    "from regmod.models import PogitModel, PoissonModel, BinomialModel\n",
    "from regmod.utils import SplineSpecs\n",
    "from regmod.optimizer import scipy_optimize"
   ]
  },
  {
   "cell_type": "markdown",
   "id": "1d8168c7",
   "metadata": {},
   "source": [
    "## Define utility functions"
   ]
  },
  {
   "cell_type": "code",
   "execution_count": null,
   "id": "b1937b73",
   "metadata": {},
   "outputs": [],
   "source": [
    "def logit(p):\n",
    "    return np.log(p/(1-p))\n",
    "\n",
    "def expit(x):\n",
    "    return np.exp(x)/(1+np.exp(x))\n",
    "\n",
    "def generate_lam(df, specs, noise_sd=0.0):\n",
    "    intercept_pred = specs[\"coefs\"][\"Intercept\"]\n",
    "    age_pred = specs[\"age_spline\"].design_mat(df.age.values).dot(specs[\"coefs\"][\"age\"])\n",
    "    sex_pred = df.sex.values*specs[\"coefs\"][\"sex\"]\n",
    "    noise = np.random.normal(loc=0.0, scale=noise_sd, size=df.shape[0])\n",
    "    log_lam = intercept_pred + age_pred + sex_pred + noise\n",
    "    return np.exp(log_lam)*df.sample_size.values\n",
    "\n",
    "def get_true_logit_p(seatbeltuse):\n",
    "    return -3*(seatbeltuse - 1) - 1\n",
    "\n",
    "def generate_p(df, noise_sd=0.0):\n",
    "    noise = np.random.normal(loc=0.0, scale=noise_sd, size=df.shape[0])\n",
    "    logit_p = get_true_logit_p(df.seatbeltUse_synthetic) + noise\n",
    "    return expit(logit_p)\n",
    "\n",
    "def synthesize_data(df, specs, p_noise_sd=0.0, lam_noise_sd=0.0):\n",
    "    \"\"\"For each row in roadInj_data, generate a synthetic 'true rate' of injuries and a synthetic 'reporting rate',\n",
    "    based on the provided functions. Then, draw actual observations of 'observed injuries' from this data\"\"\"\n",
    "    pStar = generate_p(df, noise_sd=p_noise_sd)\n",
    "    lamStar = generate_lam(df, specs, noise_sd=lam_noise_sd)\n",
    "    \n",
    "    trueInjuries = np.random.poisson(lamStar)\n",
    "    observedInjuries = np.random.binomial(trueInjuries, pStar)\n",
    "    \n",
    "    df_gen = df.copy()\n",
    "    df_gen[\"true_injuries\"] = trueInjuries\n",
    "    df_gen[\"observed_injuries\"] = observedInjuries\n",
    "    df_gen[\"pStar\"] = pStar\n",
    "    df_gen[\"lamStar\"] = lamStar\n",
    "    \n",
    "    return df_gen"
   ]
  },
  {
   "cell_type": "markdown",
   "id": "092ff866",
   "metadata": {},
   "source": [
    "## Load data and specs"
   ]
  },
  {
   "cell_type": "code",
   "execution_count": null,
   "id": "3693eeca",
   "metadata": {},
   "outputs": [],
   "source": [
    "data_dir = Path(\"../data\")"
   ]
  },
  {
   "cell_type": "code",
   "execution_count": null,
   "id": "16e980c5",
   "metadata": {},
   "outputs": [],
   "source": [
    "roadInj_data = pd.read_csv(data_dir / \"roadInj_data.csv\")"
   ]
  },
  {
   "cell_type": "code",
   "execution_count": null,
   "id": "7f7fca38",
   "metadata": {},
   "outputs": [],
   "source": [
    "with open(data_dir / \"roadInj_specs.yml\", \"r\") as f:\n",
    "    roadInj_specs = yaml.full_load(f)\n",
    "roadInj_specs[\"age_spline\"] = XSpline(**roadInj_specs[\"age_spline_specs\"])"
   ]
  },
  {
   "cell_type": "markdown",
   "id": "6fa585e5",
   "metadata": {},
   "source": [
    "## True parameters for sythetic data\n",
    "We will generate synthetic data for the true rate of road injuries (lambda) and the rate at which road injuries go to inpatient care (p)."
   ]
  },
  {
   "cell_type": "code",
   "execution_count": null,
   "id": "e15c11f9",
   "metadata": {
    "scrolled": true
   },
   "outputs": [],
   "source": [
    "pdGrid = pd.DataFrame({\n",
    "    \"age\": np.linspace(roadInj_data.age.min(), roadInj_data.age.max(), 100),\n",
    "    \"sex\": 0,\n",
    "    \"sample_size\": 1e8,\n",
    "})\n",
    "for sex, color, marker, name in [(1, 'b', '+', \"Male\"), (0, 'r', 'x', \"Female\")]:\n",
    "    pdGrid[\"sex\"] = sex\n",
    "    plt.plot(pdGrid.age, generate_lam(pdGrid, roadInj_specs)/pdGrid.sample_size, color=color, label=name)\n",
    "plt.xlabel(\"Age\")\n",
    "plt.ylabel(\"Total Injury Rate Per Person Per Year\")\n",
    "plt.title(\"Synthetic generating function for true rate of road injuries data\")\n",
    "plt.legend()"
   ]
  },
  {
   "cell_type": "code",
   "execution_count": null,
   "id": "7250f078",
   "metadata": {},
   "outputs": [],
   "source": [
    "plt.scatter(roadInj_data.seatbeltUse_synthetic, generate_p(roadInj_data), color='k')\n",
    "plt.xlabel(\"Seatbelt Use\")\n",
    "plt.ylabel(\"Fraction of Injuries Treated as Inpatient\")\n",
    "plt.title(\"Synthetic generating function for rate of inpatient care\")"
   ]
  },
  {
   "cell_type": "markdown",
   "id": "42da5553",
   "metadata": {},
   "source": [
    "## Generate data for inpatient and outpatient injuries across all age, sex, and seat belt use categories\n",
    "Assuming seat belt use is independent of age and sex\n",
    "\n",
    "For each row of data we already have, we will assign some fraction of seatbelt-wearing (uniformly in 0,1), and then use this to come up with a 'true rate' and a 'reporting rate' for that row of data"
   ]
  },
  {
   "cell_type": "code",
   "execution_count": null,
   "id": "32b37174",
   "metadata": {},
   "outputs": [],
   "source": [
    "sd = synthesize_data(roadInj_data, roadInj_specs)\n",
    "pdGrid = pd.DataFrame({\n",
    "    \"age\": np.linspace(roadInj_data.age.min(), roadInj_data.age.max(), 100),\n",
    "    \"sex\": 0,\n",
    "    \"sample_size\": 1e-8,\n",
    "})\n",
    "\n",
    "fig, ax = plt.subplots(3, 1, figsize=(4, 8))\n",
    "# Left column shows pStar, lamStar, and muStar for each covariate value\n",
    "for sex, color, marker, name in [(1, 'b', '+', \"Male\"), (0, 'r', 'x', \"Female\")]:\n",
    "    pdGrid[\"sex\"] = sex\n",
    "    ax[0].plot(pdGrid.age, generate_lam(pdGrid, roadInj_specs)/pdGrid.sample_size, color=color, label=name)\n",
    "    \n",
    "    plotIdx = roadInj_data.sex == sex\n",
    "    ax[0].scatter(roadInj_data[plotIdx].age,\n",
    "                  sd[plotIdx].true_injuries/roadInj_data[plotIdx].sample_size, \n",
    "                  color=color, marker=marker)\n",
    "    ax[0].set_xlabel(\"Age\")\n",
    "    ax[0].set_ylabel(\"Total Injury Rate\\nPer Person Per Year\")\n",
    "    ax[0].legend()\n",
    "\n",
    "roadInj_data.sort_values(\"seatbeltUse_synthetic\", inplace=True)\n",
    "ax[1].plot(roadInj_data.seatbeltUse_synthetic, generate_p(roadInj_data), color='k')\n",
    "ax[1].scatter(sd.seatbeltUse_synthetic, sd.observed_injuries/sd.true_injuries, color='gray')\n",
    "ax[1].set_xlabel(\"Seatbelt Use\")\n",
    "ax[1].set_ylabel(\"Fraction of Injuries\\nTreated as Inpatient\")\n",
    "\n",
    "ax[2].scatter(roadInj_data.seatbeltUse_synthetic, sd.observed_injuries/sd.sample_size, color='k')\n",
    "ax[2].set_xlabel(\"Seatbelt Use\")\n",
    "ax[2].set_ylabel(\"Observed (Inpatient) Injury Rate\\nPer Person Per Year\")\n",
    "    \n",
    "plt.tight_layout()\n",
    "# plt.show()"
   ]
  },
  {
   "cell_type": "markdown",
   "id": "b0645b4b",
   "metadata": {},
   "source": [
    "## Test recovery across different amounts of noise"
   ]
  },
  {
   "cell_type": "code",
   "execution_count": null,
   "id": "a83eac0d",
   "metadata": {},
   "outputs": [],
   "source": [
    "varAge = Variable(name=\"age\")\n",
    "varSex = Variable(name=\"sex\")\n",
    "varInt = Variable(name=\"(Intercept)\")\n",
    "varSeatbelt = Variable(name=\"seatbeltUse_synthetic\")\n",
    "\n",
    "varAgeSpline2Knot16 = SplineVariable(name=\"age\",\n",
    "                                     spline_specs=SplineSpecs(\n",
    "                                         knots=np.array([roadInj_data.age.min(), 16, roadInj_data.age.max()]),\n",
    "                                         knots_type=\"abs\",\n",
    "                                         degree=2,\n",
    "                                         include_first_basis=True\n",
    "                                     ))"
   ]
  },
  {
   "cell_type": "code",
   "execution_count": null,
   "id": "e4dd2cc4",
   "metadata": {
    "scrolled": false
   },
   "outputs": [],
   "source": [
    "fig, ax = plt.subplots(2, 4, figsize=(12,6))\n",
    "\n",
    "for j, (lamNoise, pNoise) in enumerate([(0, 0), (0.2, 0.2), (0.5, 0.5), (1, 1)]):\n",
    "    ax[0, j].set_title(\"Lambda noise \"+str(lamNoise)+\", p noise \"+str(pNoise))\n",
    "    sd = synthesize_data(roadInj_data, roadInj_specs, p_noise_sd=pNoise, lam_noise_sd=lamNoise)\n",
    "    spd = sd.copy()\n",
    "    \n",
    "    # create data object\n",
    "    sdata = Data(col_obs='observed_injuries',\n",
    "                 col_covs=[\"age\", \"sex\", \"(Intercept)\", \"seatbeltUse_synthetic\"],\n",
    "                 df=spd)\n",
    "\n",
    "\n",
    "    # create model object\n",
    "    model = PogitModel(sdata,\n",
    "                       param_specs={\"p\": {\"variables\":[varInt, varSeatbelt]},\n",
    "                                    \"lam\": {\"use_offset\":True, \"variables\":[varInt, varAgeSpline2Knot16, varSex]}})\n",
    "    result = scipy_optimize(model)\n",
    "       \n",
    "    \n",
    "    # plot result\n",
    "    df_pred_p = pd.DataFrame({\"(Intercept)\":1,\n",
    "                              \"seatbeltUse_synthetic\":np.linspace(0, 1, 100)})\n",
    "    data_pred_p = Data(col_covs=list(df_pred_p.columns), df=df_pred_p)\n",
    "    \n",
    "    # create prediction\n",
    "    sdata.detach_df()\n",
    "    sdata.attach_df(gridData)\n",
    "    pred_p = model.params[0].get_param(model.split_coefs(result[\"coefs\"])[0], data_pred_p)\n",
    "    \n",
    "    spd.sort_values(\"seatbeltUse_synthetic\", inplace=True)\n",
    "    ax[1, j].scatter(spd.seatbeltUse_synthetic, spd.observed_injuries/spd.true_injuries, color='gray', alpha=0.4)\n",
    "    ax[1, j].plot(spd.seatbeltUse_synthetic, generate_p(spd), color='k')\n",
    "    ax[1, j].plot(gridData.seatbeltUse_synthetic, pred_p, color='k', linestyle='--')\n",
    "    ax[1, j].set_xlabel(\"Seatbelt Use\")\n",
    "    \n",
    "    df_pred_lam = pd.DataFrame({\n",
    "        \"age\": np.linspace(roadInj_data.age.min(), roadInj_data.age.max(), 100),\n",
    "        \"sex\": 0,\n",
    "        \"sample_size\": 1,\n",
    "        \"(Intercept)\": 1\n",
    "    })\n",
    "    for sex, color, marker, name in [(1, 'b', '+', \"Male\"), (0, 'r', 'x', \"Female\")]:\n",
    "        df_pred_lam[\"sex\"] = sex\n",
    "        data_pred_lam = Data(col_covs=list(df_pred_lam.columns), df=df_pred_lam)\n",
    "        ax[0, j].plot(df_pred_lam.age, generate_lam(df_pred_lam, roadInj_specs)/df_pred_lam.sample_size,\n",
    "                      color=color, label=name)\n",
    "\n",
    "        plotIdx = roadInj_data.sex == sex\n",
    "        ax[0, j].scatter(roadInj_data[plotIdx].age, sd[plotIdx].true_injuries/roadInj_data[plotIdx].sample_size, \n",
    "                         color=color, marker=marker, alpha=0.4)\n",
    "        pred_lam = model.params[1].get_param(model.split_coefs(result[\"coefs\"])[1], data_pred_lam)\n",
    "        ax[0, j].plot(df_pred_lam.age, pred_lam/df_pred_lam.sample_size, color=color, linestyle='--')\n",
    "    \n",
    "    ax[0, j].set_xlabel(\"Age\")\n",
    "ax[0, 0].set_ylabel(\"Total Injury Rate\\nPer Person Per Year\")\n",
    "ax[0, 0].legend()\n",
    "ax[1, 0].set_ylabel(\"Fraction of Injuries\\nTreated as Inpatient\")\n",
    "\n",
    "plt.tight_layout()"
   ]
  },
  {
   "cell_type": "code",
   "execution_count": null,
   "id": "a7a15b22",
   "metadata": {},
   "outputs": [],
   "source": []
  }
 ],
 "metadata": {
  "kernelspec": {
   "display_name": "Python 3 (ipykernel)",
   "language": "python",
   "name": "python3"
  },
  "language_info": {
   "codemirror_mode": {
    "name": "ipython",
    "version": 3
   },
   "file_extension": ".py",
   "mimetype": "text/x-python",
   "name": "python",
   "nbconvert_exporter": "python",
   "pygments_lexer": "ipython3",
   "version": "3.8.2"
  }
 },
 "nbformat": 4,
 "nbformat_minor": 5
}
