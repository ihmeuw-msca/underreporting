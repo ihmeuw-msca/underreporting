{
 "cells": [
  {
   "cell_type": "markdown",
   "id": "8af2b7a2",
   "metadata": {},
   "source": [
    "# Importance of informative covariates in the Pogit model\n",
    "\n",
    "If the covariates perfectly predict the true rate lambda and reporting rate p, then the Pogit model successfully separates these two functions. On the other hand, if lambda or p are noisy functions of their covariates, then the model\"s recovery gets worse. We demonstrate how strong priors/constraints can be helpful in this setting to recover the true functions using synthetic data on road injuries."
   ]
  },
  {
   "cell_type": "code",
   "execution_count": null,
   "id": "3ef1955a",
   "metadata": {},
   "outputs": [],
   "source": [
    "from pathlib import Path\n",
    "\n",
    "import pandas as pd\n",
    "import numpy as np\n",
    "import matplotlib.pyplot as plt\n",
    "import yaml\n",
    "from xspline import XSpline\n",
    "\n",
    "from regmod.data import Data\n",
    "from regmod.variable import Variable, SplineVariable\n",
    "from regmod.prior import GaussianPrior, UniformPrior, LinearUniformPrior, SplineUniformPrior, LinearGaussianPrior\n",
    "from regmod.models import PogitModel, PoissonModel, BinomialModel\n",
    "from regmod.utils import SplineSpecs\n",
    "from regmod.optimizer import scipy_optimize"
   ]
  },
  {
   "cell_type": "markdown",
   "id": "f925e5c5",
   "metadata": {},
   "source": [
    "## Define utility functions"
   ]
  },
  {
   "cell_type": "code",
   "execution_count": null,
   "id": "c4377ef1",
   "metadata": {},
   "outputs": [],
   "source": [
    "def logit(p):\n",
    "    return np.log(p/(1-p))\n",
    "\n",
    "def expit(x):\n",
    "    return np.exp(x)/(1+np.exp(x))\n",
    "\n",
    "def get_logit_p(df, coefs):\n",
    "    intercept_pred = coefs[\"Intercept\"]\n",
    "    seatbeltUse_synthetic_pred = df[\"seatbeltUse_synthetic\"].values*coefs[\"seatbeltUse_synthetic\"]\n",
    "    return intercept_pred + seatbeltUse_synthetic_pred\n",
    "\n",
    "def get_log_lam(df, coefs, age_spline):\n",
    "    intercept_pred = coefs[\"Intercept\"]\n",
    "    age_pred = age_spline.design_mat(df.age.values).dot(coefs[\"age\"])\n",
    "    sex_pred = df.sex.values*coefs[\"sex\"]\n",
    "    return intercept_pred + age_pred + sex_pred\n",
    "\n",
    "def generate_lam(df, coefs, age_spline, noise_sd=0.0):\n",
    "    noise = np.random.normal(loc=0.0, scale=noise_sd, size=df.shape[0])\n",
    "    log_lam = get_log_lam(df, coefs, age_spline) + noise\n",
    "    return np.exp(log_lam)*df.sample_size.values\n",
    "\n",
    "def generate_p(df, coefs, noise_sd=0.0):\n",
    "    noise = np.random.normal(loc=0.0, scale=noise_sd, size=df.shape[0])\n",
    "    logit_p = get_logit_p(df, coefs) + noise\n",
    "    return expit(logit_p)\n",
    "\n",
    "def synthesize_data(df, p_coefs, lam_coefs, age_spline, p_noise_sd=0.0, lam_noise_sd=0.0):\n",
    "    \"\"\"For each row in roadInj_data, generate a synthetic 'true rate' of injuries and a synthetic 'reporting rate',\n",
    "    based on the provided functions. Then, draw actual observations of 'observed injuries' from this data\"\"\"\n",
    "    pStar = generate_p(df, p_coefs, noise_sd=p_noise_sd)\n",
    "    lamStar = generate_lam(df, lam_coefs, age_spline, noise_sd=lam_noise_sd)\n",
    "    \n",
    "    trueInjuries = np.random.poisson(lamStar)\n",
    "    observedInjuries = np.random.binomial(trueInjuries, pStar)\n",
    "    \n",
    "    df_gen = df.copy()\n",
    "    df_gen[\"true_injuries\"] = trueInjuries\n",
    "    df_gen[\"observed_injuries\"] = observedInjuries\n",
    "    df_gen[\"pStar\"] = pStar\n",
    "    df_gen[\"lamStar\"] = lamStar\n",
    "    \n",
    "    return df_gen"
   ]
  },
  {
   "cell_type": "code",
   "execution_count": null,
   "id": "f538da56",
   "metadata": {},
   "outputs": [],
   "source": [
    "# plotting function\n",
    "def plot_lam_curve(coefs, age_spline, linestyle=\"-\", label_prefix=\"\", ax=None):\n",
    "    ax = plt.subplots()[1] if ax is None else ax\n",
    "    df = pd.DataFrame({\"age\": np.linspace(age_spline.knots[0], age_spline.knots[-1], 100), \"sample_size\": 1})\n",
    "    for sex, color, name in [(1, \"b\", \"Male\"), (0, \"r\", \"Female\")]:\n",
    "        df[\"sex\"] = sex\n",
    "        ax.plot(df.age, generate_lam(df, coefs, age_spline),\n",
    "                color=color, label=label_prefix + name, linestyle=linestyle)\n",
    "    return ax\n",
    "\n",
    "def plot_p_curve(coefs, ax=None, label=\"\", linestyle=\"-\"):\n",
    "    ax = plt.subplots()[1] if ax is None else ax\n",
    "    df = pd.DataFrame({\"seatbeltUse_synthetic\": np.linspace(0.0, 1.0, 100)})\n",
    "    ax.plot(df.seatbeltUse_synthetic, generate_p(df, coefs), color=\"k\", label=label, linestyle=linestyle)\n",
    "    return ax\n",
    "\n",
    "def plot_lam_data(df, ax=None):\n",
    "    ax = plt.subplots()[1] if ax is None else ax\n",
    "    for sex, color, marker in [(1, \"b\", \"+\"), (0, \"r\", \"x\")]:\n",
    "        index = df[\"sex\"] == sex\n",
    "        ax.scatter(df.age[index], df.true_injuries[index]/df.sample_size[index], color=color, marker=marker)\n",
    "    return ax\n",
    "\n",
    "def plot_p_data(df, ax=None):\n",
    "    ax = plt.subplots()[1] if ax is None else ax\n",
    "    ax.scatter(df.seatbeltUse_synthetic, df.observed_injuries/df.true_injuries, color=\"gray\")"
   ]
  },
  {
   "cell_type": "markdown",
   "id": "4df23e28",
   "metadata": {},
   "source": [
    "## Load data and specs"
   ]
  },
  {
   "cell_type": "code",
   "execution_count": null,
   "id": "1f01aa92",
   "metadata": {},
   "outputs": [],
   "source": [
    "data_dir = Path(\"../data\")"
   ]
  },
  {
   "cell_type": "code",
   "execution_count": null,
   "id": "94a646b1",
   "metadata": {},
   "outputs": [],
   "source": [
    "roadInj_data = pd.read_csv(data_dir / \"roadInj_data.csv\")"
   ]
  },
  {
   "cell_type": "code",
   "execution_count": null,
   "id": "c4c48d45",
   "metadata": {},
   "outputs": [],
   "source": [
    "with open(data_dir / \"roadInj_specs.yml\", \"r\") as f:\n",
    "    roadInj_specs = yaml.full_load(f)\n",
    "age_spline = XSpline(**roadInj_specs[\"age_spline_specs\"])\n",
    "p_coefs = roadInj_specs[\"p_coefs\"]\n",
    "lam_coefs = roadInj_specs[\"lam_coefs\"]"
   ]
  },
  {
   "cell_type": "markdown",
   "id": "fc1f0257",
   "metadata": {},
   "source": [
    "## True parameters for sythetic data\n",
    "We will generate synthetic data for the true rate of road injuries (lambda) and the rate at which road injuries go to inpatient care (p)."
   ]
  },
  {
   "cell_type": "code",
   "execution_count": null,
   "id": "120ecaae",
   "metadata": {
    "scrolled": true
   },
   "outputs": [],
   "source": [
    "ax = plot_lam_curve(lam_coefs, age_spline)\n",
    "ax.set_xlabel(\"Age\")\n",
    "ax.set_ylabel(\"Total Injury Rate Per Person Per Year\")\n",
    "ax.set_title(\"Synthetic generating function for true rate of road injuries data\")\n",
    "ax.legend()"
   ]
  },
  {
   "cell_type": "code",
   "execution_count": null,
   "id": "05150f3f",
   "metadata": {},
   "outputs": [],
   "source": [
    "ax = plot_p_curve(p_coefs)\n",
    "ax.set_xlabel(\"Seatbelt Use\")\n",
    "ax.set_ylabel(\"Fraction of Injuries Treated as Inpatient\")\n",
    "ax.set_title(\"Synthetic generating function for rate of inpatient care\")"
   ]
  },
  {
   "cell_type": "markdown",
   "id": "1ca180c4",
   "metadata": {},
   "source": [
    "## Generate synthetic data\n",
    "Generate data for inpatient and outpatient injuries across all age, sex, and seat belt use categories.\n",
    "\n",
    "Assuming seat belt use is independent of age and sex.\n",
    "For each row of data we already have, we will assign some fraction of seatbelt-wearing (uniformly in 0,1), and then use this to come up with a \"true rate\" and a \"reporting rate\" for that row of data"
   ]
  },
  {
   "cell_type": "code",
   "execution_count": null,
   "id": "0747a7ce",
   "metadata": {},
   "outputs": [],
   "source": [
    "syn_df = synthesize_data(roadInj_data, p_coefs, lam_coefs, age_spline)\n",
    "\n",
    "fig, ax = plt.subplots(3, 1, figsize=(4, 8))\n",
    "\n",
    "# Left column shows pStar, lamStar, and muStar for each covariate value\n",
    "plot_lam_curve(lam_coefs, age_spline, ax=ax[0])\n",
    "plot_lam_data(syn_df, ax=ax[0])\n",
    "ax[0].set_xlabel(\"Age\")\n",
    "ax[0].set_ylabel(\"Total Injury Rate\\nPer Person Per Year\")\n",
    "ax[0].legend()\n",
    "\n",
    "plot_p_curve(p_coefs, ax=ax[1])\n",
    "plot_p_data(syn_df, ax=ax[1])\n",
    "ax[1].set_xlabel(\"Seatbelt Use\")\n",
    "ax[1].set_ylabel(\"Fraction of Injuries\\nTreated as Inpatient\")\n",
    "\n",
    "ax[2].scatter(syn_df.seatbeltUse_synthetic, syn_df.observed_injuries/syn_df.sample_size, color=\"k\")\n",
    "ax[2].set_xlabel(\"Seatbelt Use\")\n",
    "ax[2].set_ylabel(\"Observed (Inpatient) Injury Rate\\nPer Person Per Year\")\n",
    "    \n",
    "plt.tight_layout()\n",
    "plt.show()"
   ]
  },
  {
   "cell_type": "markdown",
   "id": "3dc189f0",
   "metadata": {},
   "source": [
    "## Test recovery across different amounts of noise"
   ]
  },
  {
   "cell_type": "code",
   "execution_count": null,
   "id": "b4507fd0",
   "metadata": {},
   "outputs": [],
   "source": [
    "varAge = Variable(name=\"age\")\n",
    "varSex = Variable(name=\"sex\")\n",
    "varInt = Variable(name=\"(Intercept)\")\n",
    "varSeatbelt = Variable(name=\"seatbeltUse_synthetic\", priors=[UniformPrior(lb=-3.5, ub=-2.5)])\n",
    "\n",
    "varAgeSpline2Knot16 = SplineVariable(name=\"age\",\n",
    "                                     spline_specs=SplineSpecs(\n",
    "                                         knots=np.array([roadInj_data.age.min(), 16, roadInj_data.age.max()]),\n",
    "                                         knots_type=\"abs\",\n",
    "                                         degree=2,\n",
    "                                         include_first_basis=False\n",
    "                                     ))"
   ]
  },
  {
   "cell_type": "code",
   "execution_count": null,
   "id": "81230156",
   "metadata": {},
   "outputs": [],
   "source": [
    "def fit_model(df):\n",
    "    # create data object\n",
    "    data = Data(col_obs=\"observed_injuries\",\n",
    "                col_covs=[\"age\", \"sex\", \"(Intercept)\", \"seatbeltUse_synthetic\"],\n",
    "                df=df)\n",
    "\n",
    "    # create model object\n",
    "    model = PogitModel(data,\n",
    "                       param_specs={\"p\": {\"variables\":[varInt, varSeatbelt]},\n",
    "                                    \"lam\": {\"use_offset\": True, \"variables\":[varInt, varAgeSpline2Knot16, varSex]}})\n",
    "    result = scipy_optimize(model)\n",
    "    \n",
    "    # process the results\n",
    "    age_spline = model.params[1].variables[1].spline\n",
    "    p_coefs, lam_coefs = model.split_coefs(result[\"coefs\"])\n",
    "    p_coefs = {\n",
    "        \"Intercept\": p_coefs[0],\n",
    "        \"seatbeltUse_synthetic\": p_coefs[1]\n",
    "    }\n",
    "    lam_coefs = {\n",
    "        \"Intercept\": lam_coefs[0],\n",
    "        \"age\": lam_coefs[1:-1],\n",
    "        \"sex\": lam_coefs[-1]\n",
    "    }\n",
    "    \n",
    "    return model, p_coefs, lam_coefs, age_spline"
   ]
  },
  {
   "cell_type": "code",
   "execution_count": null,
   "id": "5e8cad1d",
   "metadata": {
    "scrolled": false
   },
   "outputs": [],
   "source": [
    "fig, ax = plt.subplots(2, 4, figsize=(12,6))\n",
    "models = []\n",
    "for j, (lamNoise, pNoise) in enumerate([(0, 0), (0.2, 0.2), (0.5, 0.5), (1, 1)]):\n",
    "    ax[0, j].set_title(\"Lambda noise \"+str(lamNoise)+\", p noise \"+str(pNoise))\n",
    "    syn_df = synthesize_data(roadInj_data, p_coefs, lam_coefs, age_spline, p_noise_sd=pNoise, lam_noise_sd=lamNoise)\n",
    "    \n",
    "    syn_model, syn_p_coefs, syn_lam_coefs, syn_age_spline = fit_model(syn_df)\n",
    "    models.append(syn_model)\n",
    "    \n",
    "    # plot result\n",
    "    plot_lam_curve(lam_coefs, age_spline, ax=ax[0, j], label_prefix=\"True \")\n",
    "    plot_lam_curve(syn_lam_coefs, syn_age_spline, ax=ax[0, j], linestyle=\"--\", label_prefix=\"Fit \")\n",
    "    plot_lam_data(syn_df, ax=ax[0, j])\n",
    "    ax[0, j].set_xlabel(\"Age\")\n",
    "    \n",
    "    plot_p_curve(p_coefs, ax=ax[1, j], label=\"True\")\n",
    "    plot_p_curve(syn_p_coefs, ax=ax[1, j], label=\"Fit\", linestyle=\"--\")\n",
    "    plot_p_data(syn_df, ax=ax[1, j])\n",
    "    ax[1, j].set_xlabel(\"Seatbelt Use\")\n",
    "    \n",
    "\n",
    "ax[0, 0].legend()\n",
    "ax[1, 0].legend()\n",
    "ax[0, 0].set_ylabel(\"Total Injury Rate\\nPer Person Per Year\")\n",
    "ax[1, 0].set_ylabel(\"Fraction of Injuries\\nTreated as Inpatient\")\n",
    "\n",
    "plt.tight_layout()\n",
    "plt.show()"
   ]
  },
  {
   "cell_type": "code",
   "execution_count": null,
   "id": "49ea8fa6",
   "metadata": {},
   "outputs": [],
   "source": []
  }
 ],
 "metadata": {
  "kernelspec": {
   "display_name": "Python 3 (ipykernel)",
   "language": "python",
   "name": "python3"
  },
  "language_info": {
   "codemirror_mode": {
    "name": "ipython",
    "version": 3
   },
   "file_extension": ".py",
   "mimetype": "text/x-python",
   "name": "python",
   "nbconvert_exporter": "python",
   "pygments_lexer": "ipython3",
   "version": "3.9.6"
  }
 },
 "nbformat": 4,
 "nbformat_minor": 5
}
