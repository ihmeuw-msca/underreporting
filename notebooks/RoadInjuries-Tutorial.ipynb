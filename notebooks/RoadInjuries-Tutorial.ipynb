{
 "cells": [
  {
   "cell_type": "markdown",
   "id": "brazilian-quarterly",
   "metadata": {},
   "source": [
    "# Demonstrate the importance of informative covariates in the Pogit model, using synthetic data on road injuries\n",
    "\n",
    "If the covariates perfectly predict the true rate lambda and reporting rate p, then the Pogit model successfully separates these two functions. On the other hand, if lambda or p are noisy functions of their covariates, then the model's recovery gets worse. We demonstrate how strong priors/constraints can be helpful in this setting to recover the true functions."
   ]
  },
  {
   "cell_type": "code",
   "execution_count": null,
   "id": "affected-editor",
   "metadata": {},
   "outputs": [],
   "source": [
    "from pathlib import Path\n",
    "src_dir = Path(\"../src\")\n",
    "data_dir = Path(\"../data\")"
   ]
  },
  {
   "cell_type": "code",
   "execution_count": null,
   "id": "unsigned-return",
   "metadata": {},
   "outputs": [],
   "source": [
    "import pandas as pd\n",
    "import numpy as np\n",
    "import matplotlib.pyplot as plt\n",
    "from regmod.data import Data\n",
    "from regmod.variable import Variable, SplineVariable\n",
    "from regmod.prior import GaussianPrior, UniformPrior, LinearUniformPrior, SplineUniformPrior, LinearGaussianPrior\n",
    "from regmod.models import PogitModel, PoissonModel, BinomialModel\n",
    "from regmod.utils import SplineSpecs\n",
    "from regmod.optimizer import scipy_optimize\n",
    "\n",
    "import pickle\n",
    "\n",
    "# Functions for synthetic data generation\n",
    "import sys\n",
    "sys.path.insert(0, str(src_dir))\n",
    "from roadInjTutorial_utils import *"
   ]
  },
  {
   "cell_type": "markdown",
   "id": "connected-despite",
   "metadata": {},
   "source": [
    "## Load covariates that will be used to model road injuries"
   ]
  },
  {
   "cell_type": "code",
   "execution_count": null,
   "id": "radical-mitchell",
   "metadata": {},
   "outputs": [],
   "source": [
    "with open(data_dir / 'roadInj_pdCovOnly.pickle', 'rb') as f:\n",
    "    # Load the lambda model that we saved earlier\n",
    "    processed_data = pickle.load(f)"
   ]
  },
  {
   "cell_type": "code",
   "execution_count": null,
   "id": "ddefe813",
   "metadata": {},
   "outputs": [],
   "source": [
    "processed_data"
   ]
  },
  {
   "cell_type": "code",
   "execution_count": null,
   "id": "4f7068dc",
   "metadata": {},
   "outputs": [],
   "source": [
    "with open(data_dir / 'roadInj_lamModel.pickle', 'rb') as f:\n",
    "    # Load the lambda model that we saved earlier\n",
    "    ml, rl = pickle.load(f)"
   ]
  },
  {
   "cell_type": "markdown",
   "id": "lyric-samuel",
   "metadata": {},
   "source": [
    "## We will generate synthetic data for the true rate of road injuries (lambda) and the rate at which road injuries go to inpatient care (p)"
   ]
  },
  {
   "cell_type": "code",
   "execution_count": null,
   "id": "featured-supplement",
   "metadata": {
    "scrolled": true
   },
   "outputs": [],
   "source": [
    "synthLamFun = lamFunGenerator()\n",
    "\n",
    "for sex, color, marker, name in [(1, 'b', '+', \"Male\"), (0, 'r', 'x', \"Female\")]:\n",
    "    pdGrid = pd.DataFrame(data=np.array(np.meshgrid([sex], \n",
    "                                           np.linspace(np.min(processed_data[\"age\"]), np.max(processed_data[\"age\"]), 100),\n",
    "                                           [1], [10**8])).T.reshape(-1, 4),\n",
    "                                  columns=['sex', 'age', '(Intercept)', 'sample_size'])\n",
    "    d = Data(col_covs=[\"age\", \"sex\", \"(Intercept)\"],\n",
    "           df=pdGrid)\n",
    "    plt.plot(pdGrid[\"age\"], synthLamFun(pdGrid, data_dir=data_dir)/pdGrid[\"sample_size\"], \n",
    "            color=color, label=name)\n",
    "plt.xlabel(\"Age\")\n",
    "plt.ylabel(\"Total Injury Rate Per Person Per Year\")\n",
    "plt.title(\"Synthetic generating function for true rate of road injuries data\")\n",
    "plt.legend()\n",
    "plt.show()"
   ]
  },
  {
   "cell_type": "code",
   "execution_count": null,
   "id": "sized-miracle",
   "metadata": {},
   "outputs": [],
   "source": [
    "synthPFun = pFunGenerator()\n",
    "\n",
    "plt.scatter(processed_data.seatbeltUse_synthetic, synthPFun(processed_data), color='k')\n",
    "plt.xlabel(\"Seatbelt Use\")\n",
    "plt.ylabel(\"Fraction of Injuries Treated as Inpatient\")\n",
    "plt.title(\"Synthetic generating function for rate of inpatient care\")\n",
    "plt.show()"
   ]
  },
  {
   "cell_type": "markdown",
   "id": "fantastic-photographer",
   "metadata": {},
   "source": [
    "## Generate data for inpatient and outpatient injuries across all age, sex, and seat belt use categories\n",
    "Assuming seat belt use is independent of age and sex\n",
    "\n",
    "For each row of data we already have, we will assign some fraction of seatbelt-wearing (uniformly in 0,1), and then use this to come up with a 'true rate' and a 'reporting rate' for that row of data"
   ]
  },
  {
   "cell_type": "code",
   "execution_count": null,
   "id": "f4e3f014",
   "metadata": {},
   "outputs": [],
   "source": [
    "def synthesizeData(processed_data, pFun, lamFun, data_dir=\"./\"):\n",
    "    \"\"\"For each row in processed_data, generate a synthetic 'true rate' of injuries and a synthetic 'reporting rate',\n",
    "    based on the provided functions. Then, draw actual observations of 'observed injuries' from this data\"\"\"\n",
    "    pStar = pFun(processed_data)\n",
    "    lamStar = lamFun(processed_data, data_dir=data_dir)\n",
    "    \n",
    "    trueInjuries = np.random.poisson(lamStar)\n",
    "    observedInjuries = np.random.binomial(trueInjuries, pStar)\n",
    "    \n",
    "    return pd.DataFrame({\"age\": processed_data.age,\n",
    "                         \"sex\": processed_data.sex,\n",
    "                         \"(Intercept)\":processed_data[\"(Intercept)\"],\n",
    "                         \"seatbeltUse_synthetic\": processed_data.seatbeltUse_synthetic,\n",
    "                         \"true_injuries\":trueInjuries, \n",
    "                         \"observed_injuries\":observedInjuries, \n",
    "                         \"pStar\":pStar, \n",
    "                         \"lamStar\":lamStar,\n",
    "                         \"sample_size\":processed_data.sample_size,\n",
    "                         \"offset\":processed_data.offset})"
   ]
  },
  {
   "cell_type": "code",
   "execution_count": null,
   "id": "obvious-lexington",
   "metadata": {},
   "outputs": [],
   "source": [
    "synthPFun = pFunGenerator()\n",
    "synthLamFun = lamFunGenerator()\n",
    "\n",
    "sd = synthesizeData(processed_data, synthPFun, synthLamFun, data_dir=data_dir)\n",
    "\n",
    "fig, ax = plt.subplots(3, 1, figsize=(4, 8))\n",
    "# Left column shows pStar, lamStar, and muStar for each covariate value\n",
    "for sex, color, marker, name in [(1, 'b', '+', \"Male\"), (0, 'r', 'x', \"Female\")]:\n",
    "    pdGrid = pd.DataFrame(data=np.array(np.meshgrid([sex], \n",
    "                                           np.linspace(np.min(processed_data[\"age\"]), np.max(processed_data[\"age\"]), 100),\n",
    "                                           [1], [1])).T.reshape(-1, 4),\n",
    "                                  columns=['sex', 'age', '(Intercept)', 'sample_size'])\n",
    "    d = Data(col_obs='total_injuries',\n",
    "           col_covs=[\"age\", \"sex\", \"(Intercept)\"],\n",
    "           df=pdGrid)\n",
    "\n",
    "    ax[0].plot(pdGrid[\"age\"], synthLamFun(pdGrid, data_dir=data_dir)/pdGrid[\"sample_size\"], \n",
    "            color=color, label=name)\n",
    "    \n",
    "    plotIdx = processed_data.sex == sex\n",
    "    ax[0].scatter(processed_data[plotIdx].age, sd[plotIdx].true_injuries/processed_data[plotIdx].sample_size, \n",
    "               color=color, marker=marker)\n",
    "    \n",
    "    ax[0].set_xlabel(\"Age\")\n",
    "    ax[0].set_ylabel(\"Total Injury Rate\\nPer Person Per Year\")\n",
    "    ax[0].legend()\n",
    "\n",
    "\n",
    "ax[1].plot(processed_data.sort_values(\"seatbeltUse_synthetic\").seatbeltUse_synthetic, \n",
    "           synthPFun(processed_data.sort_values(\"seatbeltUse_synthetic\")), color='k')\n",
    "ax[1].scatter(sd.seatbeltUse_synthetic, sd.observed_injuries/sd.true_injuries, color='gray')\n",
    "ax[1].set_xlabel(\"Seatbelt Use\")\n",
    "ax[1].set_ylabel(\"Fraction of Injuries\\nTreated as Inpatient\")\n",
    "\n",
    "ax[2].scatter(processed_data.seatbeltUse_synthetic, sd.observed_injuries/sd.sample_size, color='k')\n",
    "ax[2].set_xlabel(\"Seatbelt Use\")\n",
    "ax[2].set_ylabel(\"Observed (Inpatient) Injury Rate\\nPer Person Per Year\")\n",
    "    \n",
    "plt.tight_layout()\n",
    "plt.show()"
   ]
  },
  {
   "cell_type": "markdown",
   "id": "living-theta",
   "metadata": {},
   "source": [
    "## Test recovery across different amounts of noise"
   ]
  },
  {
   "cell_type": "code",
   "execution_count": null,
   "id": "c9a455c8",
   "metadata": {},
   "outputs": [],
   "source": [
    "varAge = Variable(name=\"age\")\n",
    "varSex = Variable(name=\"sex\")\n",
    "varInt = Variable(name=\"(Intercept)\")\n",
    "varSeatbelt = Variable(name=\"seatbeltUse_synthetic\")\n",
    "\n",
    "varAgeSpline2Knot16 = SplineVariable(name=\"age\",\n",
    "                                 spline_specs=SplineSpecs(knots=np.array([min(processed_data[\"age\"]),\n",
    "                                                                          16,\n",
    "                                                                          max(processed_data[\"age\"])]),\n",
    "                                               knots_type=\"abs\",\n",
    "                                               degree=2))"
   ]
  },
  {
   "cell_type": "code",
   "execution_count": null,
   "id": "orange-oriental",
   "metadata": {
    "scrolled": false
   },
   "outputs": [],
   "source": [
    "noiselessP = pFunGenerator()\n",
    "noiselessLam = lamFunGenerator()\n",
    "\n",
    "fig, ax = plt.subplots(2, 4, figsize=(12,6))\n",
    "\n",
    "for j, (lamNoise, pNoise) in enumerate([(0,0), (0.2,0.2), (0.5, 0.5), (1,1)]):\n",
    "    ax[0,j].set_title(\"Lambda noise \"+str(lamNoise)+\", p noise \"+str(pNoise))\n",
    "    \n",
    "    l = lamFunGenerator(lambda size: np.random.normal(loc=0, scale=lamNoise, size=size))\n",
    "    \n",
    "    p = pFunGenerator(noise=lambda size: np.random.normal(loc=0, scale=pNoise, size=size))\n",
    "    \n",
    "    sd = synthesizeData(processed_data, p, lamFun=l, data_dir=data_dir)\n",
    "    \n",
    "    spd = pd.DataFrame({\"age\":processed_data.age,\n",
    "                      \"seatbeltUse_synthetic\":processed_data.seatbeltUse_synthetic,\n",
    "                      \"total_injuries\":sd.true_injuries,\n",
    "                      \"reported_injuries\":sd.observed_injuries,\n",
    "                      \"sex\":processed_data.sex,\n",
    "                       \"(Intercept)\":1,\n",
    "                       \"sample_size\": processed_data.sample_size,\n",
    "                       \"offset\": processed_data.offset})\n",
    "    \n",
    "    \n",
    "    sdata = Data(col_obs='reported_injuries',\n",
    "           col_covs=[\"age\", \"sex\", \"(Intercept)\", \"seatbeltUse_synthetic\"],\n",
    "           df=spd)\n",
    "\n",
    "\n",
    "    model = PogitModel(sdata,\n",
    "                    param_specs={\"p\": {\"variables\":[varInt, varSeatbelt]\n",
    "                                      },\n",
    "                                 \"lam\": {\"use_offset\":True,\n",
    "                                         \"variables\":[varInt, varAgeSpline2Knot16, varSex]}})\n",
    "\n",
    "    result = scipy_optimize(model)\n",
    "       \n",
    "    \n",
    "    gridData = pd.DataFrame({\"(Intercept)\":1,\n",
    "                            \"seatbeltUse_synthetic\":np.linspace(0, 1, 100)})\n",
    "    \n",
    "    ax[1,j].scatter(spd.seatbeltUse_synthetic, spd.reported_injuries/spd.total_injuries, color='gray', alpha=0.4)\n",
    "    ax[1,j].plot(spd.sort_values(\"seatbeltUse_synthetic\").seatbeltUse_synthetic, noiselessP(spd.sort_values(\"seatbeltUse_synthetic\")), color='k')\n",
    "    ax[1,j].plot(gridData.seatbeltUse_synthetic, model.params[0].get_param(model.split_coefs(result[\"coefs\"])[0], \n",
    "                                                            Data(col_obs='reported_injuries',\n",
    "                                                                 col_covs=[\"(Intercept)\", \"seatbeltUse_synthetic\"],\n",
    "                                                                 df=gridData)),\n",
    "            color='k', linestyle='--')\n",
    "    ax[1,j].set_xlabel(\"Seatbelt Use\")\n",
    "    \n",
    "    for sex, color, marker, name in [(1, 'b', '+', \"Male\"), (0, 'r', 'x', \"Female\")]:\n",
    "        pdGrid = pd.DataFrame(data=np.array(np.meshgrid([sex], \n",
    "                                               np.linspace(np.min(processed_data[\"age\"]), np.max(processed_data[\"age\"]), 100),\n",
    "                                               [1], [1])).T.reshape(-1, 4),\n",
    "                                      columns=['sex', 'age', '(Intercept)', 'sample_size'])\n",
    "        d = Data(col_obs='total_injuries',\n",
    "               col_covs=[\"age\", \"sex\", \"(Intercept)\"],\n",
    "               df=pdGrid)\n",
    "\n",
    "        ax[0,j].plot(pdGrid[\"age\"], noiselessLam(pdGrid, data_dir=data_dir)/pdGrid[\"sample_size\"], \n",
    "                color=color, label=name)\n",
    "\n",
    "        plotIdx = processed_data.sex == sex\n",
    "        ax[0,j].scatter(processed_data[plotIdx].age, sd[plotIdx].true_injuries/processed_data[plotIdx].sample_size, \n",
    "                   color=color, marker=marker, alpha=0.4)\n",
    "        ax[0,j].plot(pdGrid.age, \n",
    "                 model.params[1].get_param(model.split_coefs(result[\"coefs\"])[1], d)/pdGrid.sample_size,\n",
    "                 color=color, linestyle='--')\n",
    "    \n",
    "    ax[0,j].set_xlabel(\"Age\")\n",
    "ax[0,0].set_ylabel(\"Total Injury Rate\\nPer Person Per Year\")\n",
    "ax[0,0].legend()\n",
    "ax[1,0].set_ylabel(\"Fraction of Injuries\\nTreated as Inpatient\")\n",
    "\n",
    "plt.tight_layout()\n",
    "plt.show()"
   ]
  },
  {
   "cell_type": "code",
   "execution_count": null,
   "id": "fitted-plymouth",
   "metadata": {},
   "outputs": [],
   "source": []
  }
 ],
 "metadata": {
  "kernelspec": {
   "display_name": "Python 3",
   "language": "python",
   "name": "python3"
  },
  "language_info": {
   "codemirror_mode": {
    "name": "ipython",
    "version": 3
   },
   "file_extension": ".py",
   "mimetype": "text/x-python",
   "name": "python",
   "nbconvert_exporter": "python",
   "pygments_lexer": "ipython3",
   "version": "3.8.2"
  }
 },
 "nbformat": 4,
 "nbformat_minor": 5
}
