{
 "cells": [
  {
   "cell_type": "markdown",
   "id": "b9f1161b",
   "metadata": {},
   "source": [
    "# Demonstrations of improved recovery with regularization, constraints, and modified model parameterization\n",
    "\n",
    "We show simple examples of Pogit models that demonstrate how regularizers, constraints, and different link functions can improve our estimation of p and lambda"
   ]
  },
  {
   "cell_type": "code",
   "execution_count": null,
   "id": "9c45c972",
   "metadata": {},
   "outputs": [],
   "source": [
    "import numpy as np\n",
    "import pandas as pd\n",
    "import matplotlib.pyplot as plt\n",
    "from xspline import XSpline\n",
    "from regmod.data import Data\n",
    "from regmod.variable import Variable, SplineVariable\n",
    "from regmod.prior import SplineUniformPrior, SplineGaussianPrior, LinearGaussianPrior\n",
    "from regmod.models import PogitModel\n",
    "from regmod.utils import SplineSpecs\n",
    "from regmod.optimizer import scipy_optimize"
   ]
  },
  {
   "cell_type": "code",
   "execution_count": null,
   "id": "75d2f5c0",
   "metadata": {},
   "outputs": [],
   "source": [
    "def logit(p):\n",
    "    return np.log(p/(1-p))"
   ]
  },
  {
   "cell_type": "code",
   "execution_count": null,
   "id": "fbae388d",
   "metadata": {},
   "outputs": [],
   "source": [
    "np.random.seed(123)\n",
    "NUM_OBS = 100\n",
    "N_TRIALS = 50"
   ]
  },
  {
   "cell_type": "markdown",
   "id": "3bdcdae9",
   "metadata": {},
   "source": [
    "## Unconstrained Model\n",
    "Generate data according to `logit(p) = -sin(2\\pi x0)` and `lambda = 15 + exp(cos(2\\pi x1))` with `x0, x1 ~ Uniform(0,1)`. Over many realizations of the data, fit the model and illustrate the poor recovery."
   ]
  },
  {
   "cell_type": "code",
   "execution_count": null,
   "id": "4d892640",
   "metadata": {},
   "outputs": [],
   "source": [
    "# Set up x-axis values for plotting the results (global variables)\n",
    "X0_PRED = np.linspace(0, 1, 100)\n",
    "X1_PRED = np.linspace(0, 1, 100)"
   ]
  },
  {
   "cell_type": "code",
   "execution_count": null,
   "id": "82a19376",
   "metadata": {},
   "outputs": [],
   "source": [
    "# Set up variables for the model\n",
    "def var0_gen_unconstrained(x0):\n",
    "    # Note, this function doesn't use x0, but it will be used in the future\n",
    "    var0 = SplineVariable(name=\"x0\",\n",
    "                          spline_specs=SplineSpecs(knots=np.array([0.0, 0.25, 0.75, 1.0]),\n",
    "                                                   knots_type=\"abs\",\n",
    "                                                   degree=3))\n",
    "\n",
    "    return var0\n",
    "\n",
    "def var1_gen_unconstrained(x1):\n",
    "    var1 = SplineVariable(name=\"x1\",\n",
    "                          spline_specs=SplineSpecs(knots=np.array([0.0, 0.5, 1.0]),\n",
    "                                                   knots_type=\"abs\",\n",
    "                                                   degree=3))\n",
    "    return var1"
   ]
  },
  {
   "cell_type": "code",
   "execution_count": null,
   "id": "fa3d3579",
   "metadata": {},
   "outputs": [],
   "source": [
    "def generateData():\n",
    "    x0 = np.random.rand(NUM_OBS)\n",
    "    x1 = np.random.rand(NUM_OBS)\n",
    "\n",
    "    true_p = 1.0/(1.0 + np.exp(-np.sin(x0*2.0*np.pi)))\n",
    "    true_lam = 15.0 + np.exp(np.cos(x1*2.0*np.pi))\n",
    "    n = np.random.poisson(true_lam)\n",
    "    y = np.random.binomial(n=n, p=true_p)\n",
    "    \n",
    "    return x0, x1, y, n\n",
    "\n",
    "def fitModel(var0_gen, var1_gen, pOptions={}):\n",
    "    df_pred = pd.DataFrame({\"x0\": X0_PRED, \"x1\": X1_PRED})\n",
    "    data_pred = Data(col_covs=[\"x0\", \"x1\"], df=df_pred)\n",
    "\n",
    "    pred0 = np.zeros((len(X0_PRED), N_TRIALS))\n",
    "    pred1 = np.zeros((len(X1_PRED), N_TRIALS))\n",
    "\n",
    "    for i in range(N_TRIALS):\n",
    "        # Generate data (don't even look at true n)\n",
    "        x0, x1, y, _ = generateData()\n",
    "\n",
    "        # Build and fit model\n",
    "        df = pd.DataFrame({\"y\": y, \"x0\": x0, \"x1\": x1})\n",
    "        data = Data(col_obs=\"y\", col_covs=[\"x0\", \"x1\"], df=df)\n",
    "        var0 = var0_gen(x0)\n",
    "        var1 = var1_gen(x1)\n",
    "        pOptions['variables'] = [var0]\n",
    "        model = PogitModel(data, param_specs={\"p\": pOptions, \"lam\": {\"variables\": [var1]}})\n",
    "        result = scipy_optimize(model)\n",
    "\n",
    "        # Record the estimated pHat and lambdaHat at every value of x0, x1\n",
    "        coefs = model.split_coefs(result[\"coefs\"])\n",
    "\n",
    "        pred0[:,i] = model.params[0].get_param(coefs[0], data_pred)\n",
    "        pred1[:,i] = model.params[1].get_param(coefs[1], data_pred)\n",
    "    \n",
    "    return pred0, pred1"
   ]
  },
  {
   "cell_type": "code",
   "execution_count": null,
   "id": "b717a819",
   "metadata": {},
   "outputs": [],
   "source": [
    "unconstrainedPred0, unconstrainedPred1 = fitModel(var0_gen_unconstrained, var1_gen_unconstrained)"
   ]
  },
  {
   "cell_type": "code",
   "execution_count": null,
   "id": "7d426049",
   "metadata": {},
   "outputs": [],
   "source": [
    "# Global plotting parameters\n",
    "plt.rc('font', size=16) #controls default text size\n",
    "plt.rc('axes', titlesize=18) #fontsize of the title\n",
    "plt.rc('axes', labelsize=16) #fontsize of the x and y labels\n",
    "plt.rc('xtick', labelsize=14) #fontsize of the x tick labels\n",
    "plt.rc('ytick', labelsize=14) #fontsize of the y tick labels\n",
    "plt.rc('legend', fontsize=14) #fontsize of the legend\n",
    "\n",
    "# Plot the pHat, lamHat, and muHat estimates from each trial\n",
    "def plotTrials(pred0=None, pred1=None, ax=None, titleString=\"Pogit Model\", plotYlab=True):\n",
    "    # Generate one round of data just so we can plot it and see what representative data looks like\n",
    "    x0, x1, y, n = generateData()\n",
    "    \n",
    "    multiplot = True\n",
    "    if ax is None:\n",
    "        multiplot = False\n",
    "        fig, ax = plt.subplots(3, 1, figsize=(10, 5*3))\n",
    "    if pred0 is not None:\n",
    "        ax[0].plot(X0_PRED, pred0, color=\"#008080\", label=[\"One model fit\"] + [\"_nolabel_\"]*(N_TRIALS-1), alpha=0.2)\n",
    "    ax[0].scatter(x0, y/n, marker=\".\", color=\"gray\", alpha=0.5, s=3)\n",
    "    ax[0].plot(X0_PRED, 1.0/(1.0 + np.exp(-np.sin(X0_PRED*2.0*np.pi))), color=\"#DC143C\", label=\"True\", linestyle=\"--\")\n",
    "    ax[0].set_xlabel(\"x0\")\n",
    "    if plotYlab:\n",
    "        ax[0].set_ylabel(\"p\")\n",
    "    ax[0].set_title(titleString, loc=\"left\")\n",
    "    leg = ax[0].legend()\n",
    "    for marker in leg.legendHandles:\n",
    "        marker.set_alpha(1)\n",
    "\n",
    "    if pred1 is not None:\n",
    "        ax[1].semilogy(X1_PRED, pred1, color=\"#008080\", label=[\"One model fit\"] + [\"_nolabel_\"]*(N_TRIALS-1), alpha=0.2)\n",
    "    ax[1].scatter(x1, n, marker=\".\", color=\"gray\", alpha=0.5, s=3)\n",
    "    ax[1].semilogy(X1_PRED, 15.0 + np.exp(np.cos(X1_PRED*2.0*np.pi)), color=\"#DC143C\", label=\"True\", linestyle=\"--\")\n",
    "    ax[1].set_ylim(top=10**2)\n",
    "    ax[1].set_xlabel(\"x1\")\n",
    "    if plotYlab:\n",
    "        ax[1].set_ylabel(r'$\\lambda$')\n",
    "    leg = ax[1].legend()\n",
    "    for marker in leg.legendHandles:\n",
    "        marker.set_alpha(1)\n",
    "\n",
    "    if pred1 is not None and pred0 is not None:\n",
    "        ax[2].plot(X0_PRED, pred0*pred1, color=\"#008080\", label=[\"One model fit\"] + [\"_nolabel_\"]*(N_TRIALS-1), alpha=0.2)\n",
    "    ax[2].scatter(x0, y, marker=\".\", color=\"gray\")\n",
    "    ax[2].plot(X0_PRED, (15.0 + np.exp(np.cos(X1_PRED*2.0*np.pi)))/(1.0 + np.exp(-np.sin(X0_PRED*2.0*np.pi))), color=\"#DC143C\", label=\"True\", linestyle=\"--\")\n",
    "    ax[2].set_xlabel(\"x0, x1\")\n",
    "    if plotYlab:\n",
    "        ax[2].set_ylabel(r'$\\mu=\\lambda p$')\n",
    "    leg = ax[2].legend()\n",
    "    for marker in leg.legendHandles:\n",
    "        marker.set_alpha(1)\n",
    "    \n",
    "    if not multiplot:\n",
    "        plt.show()"
   ]
  },
  {
   "cell_type": "code",
   "execution_count": null,
   "id": "2bff9663",
   "metadata": {},
   "outputs": [],
   "source": [
    "def plotComparison(predList, saveFile=None, subplotDims=(7,5), plotTruthAlone=False):\n",
    "    \"\"\"predList is a list of (pred0, pred1, titleString) tuples\n",
    "       if plotTruthAlone, also add a plot of just the `True` lambda and p, without models overlaid\"\"\"\n",
    "    nComparators = len(predList) + plotTruthAlone\n",
    "    subplot_w, subplot_h = subplotDims\n",
    "    fig, ax = plt.subplots(3, nComparators, figsize=(subplot_w*nComparators, subplot_h*3), sharey='row')\n",
    "    for i, (pred0, pred1, titleString) in enumerate(predList):\n",
    "        plotTrials(pred0, pred1, ax[:,i], titleString, plotYlab=(i==0))\n",
    "    if plotTruthAlone:\n",
    "        plotTrials(None, None, ax[:,-1], \"\", plotYlab=False)\n",
    "    plt.tight_layout()\n",
    "    if saveFile is not None:\n",
    "        plt.savefig(saveFile, bbox_inches=\"tight\")\n",
    "    plt.show()"
   ]
  },
  {
   "cell_type": "code",
   "execution_count": null,
   "id": "79d5ee96",
   "metadata": {
    "scrolled": true
   },
   "outputs": [],
   "source": [
    "plotTrials(unconstrainedPred0, unconstrainedPred1)"
   ]
  },
  {
   "cell_type": "markdown",
   "id": "06be811f",
   "metadata": {},
   "source": [
    "## Technique 1: Quadratic Regularizers (Gaussian Priors)\n",
    "\n",
    "Suppose we knew the average p was about 1/2 over the entire range of `x0` - if we regularize toward that, we can improve our recovery of p and lambda"
   ]
  },
  {
   "cell_type": "code",
   "execution_count": null,
   "id": "6cbd7cf3",
   "metadata": {},
   "outputs": [],
   "source": [
    "# Set up variables for the model\n",
    "def var0_gen_regularized(x0):\n",
    "    # Build a new x0 variable that regularizes p toward 1/2\n",
    "    avgX0 = np.mean(x0)\n",
    "    avgP_guess = 0.5\n",
    "    sd = 0.3  # This sd is in logit space; the logit of 0.5 is 0. An sd of 0.3 gives +/- 1 sd as (0.42, 0.57)\n",
    "    \n",
    "    spline = XSpline(knots=np.array([0.0, 0.25, 0.75, 1.0]), degree=3)\n",
    "    #a, b = spline.knots[0], spline.knots[-1]\n",
    "    \n",
    "    #mat = spline.design_imat(a, b, order=1)/(b - a)\n",
    "    mat = np.mean(spline.design_mat(x0), axis=0)[None, :]\n",
    "    gaussian_prior_avgP = LinearGaussianPrior(mat=mat, mean=logit(avgP_guess), sd=sd)\n",
    "    \n",
    "    var0 = SplineVariable(name=\"x0\", spline=spline, linear_gpriors=[gaussian_prior_avgP])\n",
    "    return var0"
   ]
  },
  {
   "cell_type": "code",
   "execution_count": null,
   "id": "3550b49f",
   "metadata": {},
   "outputs": [],
   "source": [
    "regularizedPred0, regularizedPred1 = fitModel(var0_gen_regularized, var1_gen_unconstrained)"
   ]
  },
  {
   "cell_type": "code",
   "execution_count": null,
   "id": "e8c8ef18",
   "metadata": {},
   "outputs": [],
   "source": [
    "plotComparison([(unconstrainedPred0, unconstrainedPred1, \"Unconstrained\"),\n",
    "                (regularizedPred0, regularizedPred1, \"Regularize average p toward 1/2\")])"
   ]
  },
  {
   "cell_type": "markdown",
   "id": "1f7a0282",
   "metadata": {},
   "source": [
    "## Technique 2: Linear Constraints\n",
    "\n",
    "We force lambda to be fit as a convex function of x1. Note that this is only an approximation of the truth; in reality lambda is close to convex, but not quite."
   ]
  },
  {
   "cell_type": "code",
   "execution_count": null,
   "id": "3061009a",
   "metadata": {},
   "outputs": [],
   "source": [
    "def var1_gen_convex(x0):\n",
    "    # Build a new x1 variable that enforces the convexity constraint\n",
    "    uniform_prior_avgLam_cvx = SplineUniformPrior(domain_lb=0,\n",
    "                                            domain_ub=1,\n",
    "                                            size=50,\n",
    "                                            lb=0.0,\n",
    "                                            ub=np.inf,\n",
    "                                            domain_type=\"abs\",\n",
    "                                            order=2)\n",
    "\n",
    "    var1 = SplineVariable(name=\"x1\",\n",
    "                          spline_specs=SplineSpecs(knots=np.array([0.0, 0.25, 0.75, 1.0]),\n",
    "                                                   knots_type=\"abs\",\n",
    "                                                   degree=3),\n",
    "                          linear_upriors=[uniform_prior_avgLam_cvx])\n",
    "    \n",
    "    return var1\n",
    "\n",
    "def var0_gen_convex(x0):\n",
    "    # Build a new x0 variable that enforces the convexity constraint on the second half\n",
    "    uniform_prior_avgP_cvx = SplineUniformPrior(domain_lb=0.5,\n",
    "                                            domain_ub=1,\n",
    "                                            size=50,\n",
    "                                            lb=0.0,\n",
    "                                            ub=np.inf,\n",
    "                                            domain_type=\"abs\",\n",
    "                                            order=2)\n",
    "\n",
    "    var0 = SplineVariable(name=\"x0\",\n",
    "                          spline_specs=SplineSpecs(knots=np.array([0.0, 0.25, 0.75, 1.0]),\n",
    "                                                   knots_type=\"abs\",\n",
    "                                                   degree=3),\n",
    "                          linear_upriors=[uniform_prior_avgP_cvx])\n",
    "    \n",
    "    return var0\n",
    "\n",
    "def var0_gen_concave(x0):\n",
    "    # Build a new x0 variable that enforces concavity in the first half\n",
    "    uniform_prior_avgP_ccv = SplineUniformPrior(domain_lb=0,\n",
    "                                            domain_ub=0.5,\n",
    "                                            size=50,\n",
    "                                            lb=-1*np.inf,\n",
    "                                            ub=0,\n",
    "                                            domain_type=\"abs\",\n",
    "                                            order=2)\n",
    "\n",
    "    var0 = SplineVariable(name=\"x0\",\n",
    "                          spline_specs=SplineSpecs(knots=np.array([0.0, 0.25, 0.75, 1.0]),\n",
    "                                                   knots_type=\"abs\",\n",
    "                                                   degree=3),\n",
    "                          linear_upriors=[uniform_prior_avgP_ccv])\n",
    "    \n",
    "    return var0\n",
    "\n",
    "def var0_gen_concave_convex(x0):\n",
    "    # Build a new x0 variable that enforces concavity in the first half\n",
    "    uniform_prior_avgP_ccv = SplineUniformPrior(domain_lb=0,\n",
    "                                            domain_ub=0.5,\n",
    "                                            size=50,\n",
    "                                            lb=-1*np.inf,\n",
    "                                            ub=0,\n",
    "                                            domain_type=\"abs\",\n",
    "                                            order=2)\n",
    "    \n",
    "    uniform_prior_avgP_cvx = SplineUniformPrior(domain_lb=0.5,\n",
    "                                            domain_ub=1,\n",
    "                                            size=50,\n",
    "                                            lb=0.0,\n",
    "                                            ub=np.inf,\n",
    "                                            domain_type=\"abs\",\n",
    "                                            order=2)\n",
    "\n",
    "\n",
    "    var0 = SplineVariable(name=\"x0\",\n",
    "                          spline_specs=SplineSpecs(knots=np.array([0.0, 0.25, 0.75, 1.0]),\n",
    "                                                   knots_type=\"abs\",\n",
    "                                                   degree=3),\n",
    "                          linear_upriors=[uniform_prior_avgP_ccv, uniform_prior_avgP_cvx])\n",
    "    \n",
    "    return var0"
   ]
  },
  {
   "cell_type": "code",
   "execution_count": null,
   "id": "02f9a009",
   "metadata": {},
   "outputs": [],
   "source": [
    "pred0_a, pred1_a = fitModel(var0_gen_concave_convex, var1_gen_convex)"
   ]
  },
  {
   "cell_type": "code",
   "execution_count": null,
   "id": "23d131ba",
   "metadata": {},
   "outputs": [],
   "source": [
    "plotComparison([(unconstrainedPred0, unconstrainedPred1, \"Unconstrained\"),\n",
    "                (pred0_a, pred1_a, \"Convex lambda, concave/convex p\")])"
   ]
  },
  {
   "cell_type": "markdown",
   "id": "c338228d",
   "metadata": {},
   "source": [
    "# Technique 3: Modify the Link Function\n",
    "\n",
    "Suppose we knew that `p` only took values between `0.2` and `0.8`. We modify the inverse link function to be\n",
    "\n",
    "`l(x) = 0.2 + (0.8 - 0.2)/(1 + exp(-x)`"
   ]
  },
  {
   "cell_type": "code",
   "execution_count": null,
   "id": "61c9f40f",
   "metadata": {},
   "outputs": [],
   "source": [
    "from regmod.function import SmoothFunction\n",
    "from regmod.function import expit_fun, expit_dfun, expit_d2fun\n",
    "\n",
    "def create_texpit(a, b):\n",
    "    \"\"\"Create truncated expit function\"\"\"\n",
    "    def texpit_fun(x, a=a, b=b):\n",
    "        return a + (b-a)*expit_fun(x)\n",
    "    \n",
    "    def texpit_dfun(x, a=a, b=b):\n",
    "        return (b-a)*expit_dfun(x)\n",
    "        \n",
    "    def texpit_d2fun(x, a=a, b=b):\n",
    "        return (b-a)*expit_d2fun(x)\n",
    "        \n",
    "    return SmoothFunction(name=\"texpit\", fun=texpit_fun, dfun=texpit_dfun, d2fun=texpit_d2fun)"
   ]
  },
  {
   "cell_type": "code",
   "execution_count": null,
   "id": "11e5d310",
   "metadata": {},
   "outputs": [],
   "source": [
    "texpit = create_texpit(0.2, 0.8)\n",
    "\n",
    "texpitPred0, texpitPred1 = fitModel(var0_gen_unconstrained, var1_gen_unconstrained, pOptions={\"inv_link\": texpit})"
   ]
  },
  {
   "cell_type": "code",
   "execution_count": null,
   "id": "35578c4f",
   "metadata": {},
   "outputs": [],
   "source": [
    "plotComparison([(unconstrainedPred0, unconstrainedPred1, \"Unconstrained\"),\n",
    "                (texpitPred0, texpitPred1, \"Modified logit link\")])"
   ]
  },
  {
   "cell_type": "markdown",
   "id": "03a8d04d",
   "metadata": {},
   "source": [
    "# Technique 4: Reduce Model Complexity\n",
    "\n",
    "Instead of fitting cubic splines for `p` and `lambda`, fit quadratic splines. This reduces the variance in the fits, but should still capture the curvature of both `p` and `lambda`."
   ]
  },
  {
   "cell_type": "code",
   "execution_count": null,
   "id": "9258e390",
   "metadata": {},
   "outputs": [],
   "source": [
    "# Set up quadratic spline variables\n",
    "def var0_gen_unconstrained_quadratic(x0):\n",
    "    # Note, this function doesn't use x0, but it will be used in the future\n",
    "    var0 = SplineVariable(name=\"x0\",\n",
    "                          spline_specs=SplineSpecs(knots=np.array([0.0, 0.5, 1.0]),\n",
    "                                                   knots_type=\"abs\",\n",
    "                                                   degree=2))\n",
    "\n",
    "    return var0\n",
    "\n",
    "def var1_gen_unconstrained_quadratic(x1):\n",
    "    var1 = SplineVariable(name=\"x1\",\n",
    "                          spline_specs=SplineSpecs(knots=np.array([0.0, 1.0]),\n",
    "                                                   knots_type=\"abs\",\n",
    "                                                   degree=2))\n",
    "    return var1"
   ]
  },
  {
   "cell_type": "code",
   "execution_count": null,
   "id": "a273cdde",
   "metadata": {},
   "outputs": [],
   "source": [
    "pred0_quad, pred1_quad = fitModel(var0_gen_unconstrained_quadratic, var1_gen_unconstrained_quadratic)"
   ]
  },
  {
   "cell_type": "code",
   "execution_count": null,
   "id": "f14af587",
   "metadata": {},
   "outputs": [],
   "source": [
    "plotComparison([(unconstrainedPred0, unconstrainedPred1, \"Unconstrained\"),\n",
    "                (pred0_quad, pred1_quad, \"Quadratic splines\")])"
   ]
  },
  {
   "cell_type": "markdown",
   "id": "a12c998e",
   "metadata": {},
   "source": [
    "## Plot all techniques together, to compare"
   ]
  },
  {
   "cell_type": "code",
   "execution_count": null,
   "id": "f86194d1",
   "metadata": {
    "scrolled": true
   },
   "outputs": [],
   "source": [
    "plotComparison([(unconstrainedPred0, unconstrainedPred1, \"Unconstrained\"),\n",
    "                (texpitPred0, texpitPred1, \"Modified logit link\"),\n",
    "                (regularizedPred0, regularizedPred1, \"Regularize average p toward 1/2\"),\n",
    "                (pred0_a, pred1_a, \"Convex lambda, concave/convex p\")],\n",
    "              saveFile=\"constraintComparisons_nObs\"+str(NUM_OBS)+\".pdf\",\n",
    "               #subplotDims=(7,5)\n",
    "               subplotDims=(5,4)\n",
    "              )"
   ]
  },
  {
   "cell_type": "code",
   "execution_count": null,
   "id": "dac3e23d",
   "metadata": {},
   "outputs": [],
   "source": [
    "plotComparison([(unconstrainedPred0, unconstrainedPred1, \"Unconstrained\"),\n",
    "                (texpitPred0, texpitPred1, \"Modified logit link\"),\n",
    "                (regularizedPred0, regularizedPred1, \"Regularize average p toward 1/2\"),\n",
    "                (pred0_a, pred1_a, \"Convex lambda, concave/convex p\"),\n",
    "               (pred0_quad, pred1_quad, \"Quadratic splines\")],\n",
    "               saveFile=\"constraintComparisons_nObs\"+str(NUM_OBS)+\"_withBlank.pdf\",\n",
    "               subplotDims=(5,4),\n",
    "               plotTruthAlone=True\n",
    "              )"
   ]
  },
  {
   "cell_type": "code",
   "execution_count": null,
   "id": "4ba557c6",
   "metadata": {},
   "outputs": [],
   "source": []
  }
 ],
 "metadata": {
  "kernelspec": {
   "display_name": "Python 3 (ipykernel)",
   "language": "python",
   "name": "python3"
  },
  "language_info": {
   "codemirror_mode": {
    "name": "ipython",
    "version": 3
   },
   "file_extension": ".py",
   "mimetype": "text/x-python",
   "name": "python",
   "nbconvert_exporter": "python",
   "pygments_lexer": "ipython3",
   "version": "3.9.6"
  }
 },
 "nbformat": 4,
 "nbformat_minor": 5
}
